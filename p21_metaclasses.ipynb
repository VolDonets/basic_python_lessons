{
 "cells": [
  {
   "cell_type": "code",
   "execution_count": 1,
   "metadata": {
    "collapsed": true,
    "ExecuteTime": {
     "start_time": "2023-04-13T16:47:34.312449Z",
     "end_time": "2023-04-13T16:47:34.321469Z"
    }
   },
   "outputs": [
    {
     "name": "stdout",
     "output_type": "stream",
     "text": [
      "type(x): <class '__main__.Foo'>\n",
      "type(Foo): <class 'type'>\n"
     ]
    }
   ],
   "source": [
    "class Foo:\n",
    "    pass\n",
    "\n",
    "\n",
    "x = Foo()\n",
    "\n",
    "print(f\"type(x): {type(x)}\")\n",
    "print(f\"type(Foo): {type(Foo)}\")"
   ]
  },
  {
   "cell_type": "code",
   "execution_count": 2,
   "outputs": [
    {
     "name": "stdout",
     "output_type": "stream",
     "text": [
      "type(<class 'int'>): <class 'type'>\n",
      "type(<class 'float'>): <class 'type'>\n",
      "type(<class 'dict'>): <class 'type'>\n",
      "type(<class 'list'>): <class 'type'>\n",
      "type(<class 'tuple'>): <class 'type'>\n"
     ]
    }
   ],
   "source": [
    "for t in (int, float, dict, list, tuple):\n",
    "    print(f\"type({t}): {type(t)}\")"
   ],
   "metadata": {
    "collapsed": false,
    "ExecuteTime": {
     "start_time": "2023-04-13T16:48:27.311540Z",
     "end_time": "2023-04-13T16:48:27.315540Z"
    }
   }
  },
  {
   "cell_type": "markdown",
   "source": [
    "# Example 1\n",
    "\n",
    "Creating a class 'Foo' via metaclass 'type'"
   ],
   "metadata": {
    "collapsed": false
   }
  },
  {
   "cell_type": "code",
   "execution_count": 3,
   "outputs": [
    {
     "data": {
      "text/plain": "<__main__.Foo at 0x2101ed4f4c0>"
     },
     "execution_count": 3,
     "metadata": {},
     "output_type": "execute_result"
    }
   ],
   "source": [
    "Foo = type('Foo', (), {})\n",
    "\n",
    "x = Foo()\n",
    "x"
   ],
   "metadata": {
    "collapsed": false,
    "ExecuteTime": {
     "start_time": "2023-04-13T16:48:58.961875Z",
     "end_time": "2023-04-13T16:48:58.978883Z"
    }
   }
  },
  {
   "cell_type": "code",
   "execution_count": 4,
   "outputs": [
    {
     "data": {
      "text/plain": "<__main__.Foo at 0x2101ed4f130>"
     },
     "execution_count": 4,
     "metadata": {},
     "output_type": "execute_result"
    }
   ],
   "source": [
    "class Foo:\n",
    "    pass\n",
    "\n",
    "x = Foo()\n",
    "x"
   ],
   "metadata": {
    "collapsed": false,
    "ExecuteTime": {
     "start_time": "2023-04-13T16:49:06.624889Z",
     "end_time": "2023-04-13T16:49:06.640905Z"
    }
   }
  },
  {
   "cell_type": "markdown",
   "source": [
    "# Example 2\n",
    "\n",
    "Here, <bases> is a tuple with a single element Foo, specifying the parent class that Bar inherits from. An attribute, attr, is initially placed into the namespace dictionary:"
   ],
   "metadata": {
    "collapsed": false
   }
  },
  {
   "cell_type": "code",
   "execution_count": 5,
   "outputs": [
    {
     "name": "stdout",
     "output_type": "stream",
     "text": [
      "100\n",
      "<class '__main__.Bar'>\n",
      "(<class '__main__.Foo'>,)\n"
     ]
    }
   ],
   "source": [
    "Bar = type('Bar', (Foo,), dict(attr=100))\n",
    "x = Bar()\n",
    "\n",
    "print(x.attr)\n",
    "print(x.__class__)\n",
    "print(x.__class__.__bases__)"
   ],
   "metadata": {
    "collapsed": false,
    "ExecuteTime": {
     "start_time": "2023-04-13T16:52:50.134970Z",
     "end_time": "2023-04-13T16:52:50.147967Z"
    }
   }
  },
  {
   "cell_type": "code",
   "execution_count": 6,
   "outputs": [
    {
     "name": "stdout",
     "output_type": "stream",
     "text": [
      "100\n",
      "<class '__main__.Bar'>\n",
      "(<class '__main__.Foo'>,)\n"
     ]
    }
   ],
   "source": [
    "class Bar(Foo):\n",
    "    attr = 100\n",
    "\n",
    "\n",
    "x = Bar()\n",
    "\n",
    "print(x.attr)\n",
    "print(x.__class__)\n",
    "print(x.__class__.__bases__)"
   ],
   "metadata": {
    "collapsed": false,
    "ExecuteTime": {
     "start_time": "2023-04-13T16:53:28.651253Z",
     "end_time": "2023-04-13T16:53:28.660251Z"
    }
   }
  },
  {
   "cell_type": "markdown",
   "source": [
    "# Example 3\n",
    "\n",
    "This time, <bases> is again empty. Two objects are placed into the namespace dictionary via the <dct> argument. The first is an attribute named attr and the second a function named attr_val, which becomes a method of the defined class:"
   ],
   "metadata": {
    "collapsed": false
   }
  },
  {
   "cell_type": "code",
   "execution_count": 7,
   "outputs": [
    {
     "name": "stdout",
     "output_type": "stream",
     "text": [
      "100\n",
      "100\n"
     ]
    }
   ],
   "source": [
    "Foo = type(\n",
    "    'Foo',\n",
    "    (),\n",
    "    {\n",
    "        'attr': 100,\n",
    "        'attr_val': lambda x : x.attr\n",
    "    }\n",
    ")\n",
    "\n",
    "x = Foo()\n",
    "\n",
    "print(x.attr)\n",
    "print(x.attr_val())"
   ],
   "metadata": {
    "collapsed": false,
    "ExecuteTime": {
     "start_time": "2023-04-13T16:59:06.008675Z",
     "end_time": "2023-04-13T16:59:06.012675Z"
    }
   }
  },
  {
   "cell_type": "code",
   "execution_count": 8,
   "outputs": [
    {
     "name": "stdout",
     "output_type": "stream",
     "text": [
      "100\n",
      "100\n"
     ]
    }
   ],
   "source": [
    "class Foo:\n",
    "    attr = 100\n",
    "    def attr_val(self):\n",
    "        return self.attr\n",
    "\n",
    "\n",
    "x = Foo()\n",
    "\n",
    "print(x.attr)\n",
    "print(x.attr_val())"
   ],
   "metadata": {
    "collapsed": false,
    "ExecuteTime": {
     "start_time": "2023-04-13T16:59:55.795415Z",
     "end_time": "2023-04-13T16:59:55.811412Z"
    }
   }
  },
  {
   "cell_type": "markdown",
   "source": [
    "# Example 4\n",
    "\n",
    "Only very simple functions can be defined with lambda in Python. In the following example, a slightly more complex function is defined externally then assigned to attr_val in the namespace dictionary via the name f:"
   ],
   "metadata": {
    "collapsed": false
   }
  },
  {
   "cell_type": "code",
   "execution_count": 13,
   "outputs": [
    {
     "name": "stdout",
     "output_type": "stream",
     "text": [
      "100\n",
      "attr = 100\n"
     ]
    }
   ],
   "source": [
    "def f(obj):\n",
    "    print('attr =', obj.attr)\n",
    "\n",
    "\n",
    "Foo = type(\n",
    "    'Foo',\n",
    "    (),\n",
    "    {\n",
    "        'attr': 100,\n",
    "        'attr_val': f\n",
    "    }\n",
    ")\n",
    "\n",
    "x = Foo()\n",
    "\n",
    "print(x.attr)\n",
    "x.attr_val()"
   ],
   "metadata": {
    "collapsed": false,
    "ExecuteTime": {
     "start_time": "2023-04-13T17:04:48.705030Z",
     "end_time": "2023-04-13T17:04:48.718026Z"
    }
   }
  },
  {
   "cell_type": "code",
   "execution_count": 14,
   "outputs": [
    {
     "name": "stdout",
     "output_type": "stream",
     "text": [
      "100\n",
      "attr = 100\n"
     ]
    }
   ],
   "source": [
    "def f(obj):\n",
    "    print('attr =', obj.attr)\n",
    "\n",
    "\n",
    "class Foo:\n",
    "    attr = 100\n",
    "    attr_val = f\n",
    "\n",
    "\n",
    "x = Foo()\n",
    "\n",
    "print(x.attr)\n",
    "x.attr_val()"
   ],
   "metadata": {
    "collapsed": false,
    "ExecuteTime": {
     "start_time": "2023-04-13T17:08:25.710429Z",
     "end_time": "2023-04-13T17:08:25.722426Z"
    }
   }
  },
  {
   "cell_type": "markdown",
   "source": [
    "In the following, a custom method called new() is defined and assigned as the __new__() method for Foo:"
   ],
   "metadata": {
    "collapsed": false
   }
  },
  {
   "cell_type": "code",
   "execution_count": 18,
   "outputs": [
    {
     "name": "stdout",
     "output_type": "stream",
     "text": [
      "100\n",
      "100\n"
     ]
    }
   ],
   "source": [
    "def new(cls):\n",
    "    x = object.__new__(cls)\n",
    "    x.attr = 100\n",
    "    return x\n",
    "\n",
    "Foo.__new__ = new\n",
    "\n",
    "f = Foo()\n",
    "print(f.attr)\n",
    "\n",
    "g = Foo()\n",
    "print(g.attr)"
   ],
   "metadata": {
    "collapsed": false,
    "ExecuteTime": {
     "start_time": "2023-04-13T17:13:18.904458Z",
     "end_time": "2023-04-13T17:13:18.915454Z"
    }
   }
  },
  {
   "cell_type": "markdown",
   "source": [
    "# Defining own metaclass"
   ],
   "metadata": {
    "collapsed": false
   }
  },
  {
   "cell_type": "code",
   "execution_count": 19,
   "outputs": [
    {
     "ename": "TypeError",
     "evalue": "can't set attributes of built-in/extension type 'type'",
     "output_type": "error",
     "traceback": [
      "\u001B[1;31m---------------------------------------------------------------------------\u001B[0m",
      "\u001B[1;31mTypeError\u001B[0m                                 Traceback (most recent call last)",
      "Cell \u001B[1;32mIn [19], line 6\u001B[0m\n\u001B[0;32m      3\u001B[0m     x\u001B[38;5;241m.\u001B[39mattr \u001B[38;5;241m=\u001B[39m \u001B[38;5;241m100\u001B[39m\n\u001B[0;32m      4\u001B[0m     \u001B[38;5;28;01mreturn\u001B[39;00m x\n\u001B[1;32m----> 6\u001B[0m \u001B[38;5;28;43mtype\u001B[39;49m\u001B[38;5;241;43m.\u001B[39;49m\u001B[38;5;21;43m__new__\u001B[39;49m \u001B[38;5;241m=\u001B[39m new\n",
      "\u001B[1;31mTypeError\u001B[0m: can't set attributes of built-in/extension type 'type'"
     ]
    }
   ],
   "source": [
    "# Spoiler alert:  This doesn't work!\n",
    "def new(cls):\n",
    "    x = type.__new__(cls)\n",
    "    x.attr = 100\n",
    "    return x\n",
    "\n",
    "type.__new__ = new"
   ],
   "metadata": {
    "collapsed": false
   }
  },
  {
   "cell_type": "code",
   "execution_count": 1,
   "outputs": [],
   "source": [
    "class Meta(type):\n",
    "    def __new__(cls, name, bases, dct):\n",
    "        x = super().__new__(cls, name, bases, dct)\n",
    "        x.attr = 100\n",
    "        return x"
   ],
   "metadata": {
    "collapsed": false,
    "ExecuteTime": {
     "start_time": "2023-04-14T13:00:03.343323Z",
     "end_time": "2023-04-14T13:00:03.350322Z"
    }
   }
  },
  {
   "cell_type": "code",
   "execution_count": 2,
   "outputs": [
    {
     "data": {
      "text/plain": "100"
     },
     "execution_count": 2,
     "metadata": {},
     "output_type": "execute_result"
    }
   ],
   "source": [
    "class Foo(metaclass=Meta):\n",
    "    pass\n",
    "\n",
    "Foo.attr"
   ],
   "metadata": {
    "collapsed": false,
    "ExecuteTime": {
     "start_time": "2023-04-14T13:08:43.351458Z",
     "end_time": "2023-04-14T13:08:43.388459Z"
    }
   }
  },
  {
   "cell_type": "code",
   "execution_count": 3,
   "outputs": [
    {
     "data": {
      "text/plain": "(100, 100)"
     },
     "execution_count": 3,
     "metadata": {},
     "output_type": "execute_result"
    }
   ],
   "source": [
    "class Bar(metaclass=Meta):\n",
    "    pass\n",
    "\n",
    "class Qux(metaclass=Meta):\n",
    "    pass\n",
    "\n",
    "Bar.attr, Qux.attr\n"
   ],
   "metadata": {
    "collapsed": false,
    "ExecuteTime": {
     "start_time": "2023-04-14T13:09:01.494166Z",
     "end_time": "2023-04-14T13:09:01.517165Z"
    }
   }
  },
  {
   "cell_type": "markdown",
   "source": [
    "# Object Factory"
   ],
   "metadata": {
    "collapsed": false
   }
  },
  {
   "cell_type": "code",
   "execution_count": 4,
   "outputs": [
    {
     "name": "stdout",
     "output_type": "stream",
     "text": [
      "100\n",
      "100\n",
      "100\n"
     ]
    }
   ],
   "source": [
    "class Foo:\n",
    "    def __init__(self):\n",
    "        self.attr = 100\n",
    "\n",
    "\n",
    "x = Foo()\n",
    "print(x.attr)\n",
    "\n",
    "\n",
    "y = Foo()\n",
    "print(y.attr)\n",
    "\n",
    "\n",
    "z = Foo()\n",
    "print(z.attr)"
   ],
   "metadata": {
    "collapsed": false,
    "ExecuteTime": {
     "start_time": "2023-04-14T13:11:37.043375Z",
     "end_time": "2023-04-14T13:11:37.064370Z"
    }
   }
  },
  {
   "cell_type": "markdown",
   "source": [
    "# Class Factory"
   ],
   "metadata": {
    "collapsed": false
   }
  },
  {
   "cell_type": "code",
   "execution_count": 5,
   "outputs": [
    {
     "name": "stdout",
     "output_type": "stream",
     "text": [
      "100\n",
      "100\n",
      "100\n"
     ]
    }
   ],
   "source": [
    "class Meta(type):\n",
    "    def __init__(\n",
    "        cls, name, bases, dct\n",
    "    ):\n",
    "        cls.attr = 100\n",
    "\n",
    "class X(metaclass=Meta):\n",
    "    pass\n",
    "\n",
    "print(X.attr)\n",
    "\n",
    "\n",
    "class Y(metaclass=Meta):\n",
    "    pass\n",
    "\n",
    "print(Y.attr)\n",
    "\n",
    "\n",
    "class Z(metaclass=Meta):\n",
    "    pass\n",
    "\n",
    "print(Z.attr)"
   ],
   "metadata": {
    "collapsed": false,
    "ExecuteTime": {
     "start_time": "2023-04-14T13:12:23.918195Z",
     "end_time": "2023-04-14T13:12:23.931193Z"
    }
   }
  },
  {
   "cell_type": "markdown",
   "source": [
    "# Is This Really Necessary?\n",
    "\n",
    "In Python, there are at least a couple other ways in which effectively the same thing can be accomplished:"
   ],
   "metadata": {
    "collapsed": false
   }
  },
  {
   "cell_type": "markdown",
   "source": [
    "### Simple Inheritance"
   ],
   "metadata": {
    "collapsed": false
   }
  },
  {
   "cell_type": "code",
   "execution_count": 6,
   "outputs": [
    {
     "name": "stdout",
     "output_type": "stream",
     "text": [
      "100\n",
      "100\n",
      "100\n"
     ]
    }
   ],
   "source": [
    "class Base:\n",
    "    attr = 100\n",
    "\n",
    "\n",
    "class X(Base):\n",
    "    pass\n",
    "\n",
    "\n",
    "class Y(Base):\n",
    "    pass\n",
    "\n",
    "\n",
    "class Z(Base):\n",
    "    pass\n",
    "\n",
    "\n",
    "print(X.attr)\n",
    "print(Y.attr)\n",
    "print(Z.attr)"
   ],
   "metadata": {
    "collapsed": false,
    "ExecuteTime": {
     "start_time": "2023-04-14T13:14:20.014052Z",
     "end_time": "2023-04-14T13:14:20.035053Z"
    }
   }
  },
  {
   "cell_type": "markdown",
   "source": [
    "### Class Decorators"
   ],
   "metadata": {
    "collapsed": false
   }
  },
  {
   "cell_type": "code",
   "execution_count": 7,
   "outputs": [
    {
     "name": "stdout",
     "output_type": "stream",
     "text": [
      "100\n",
      "100\n",
      "100\n"
     ]
    }
   ],
   "source": [
    "def decorator(cls):\n",
    "    class NewClass(cls):\n",
    "        attr = 100\n",
    "    return NewClass\n",
    "\n",
    "@decorator\n",
    "class X:\n",
    "    pass\n",
    "\n",
    "@decorator\n",
    "class Y:\n",
    "    pass\n",
    "\n",
    "@decorator\n",
    "class Z:\n",
    "    pass\n",
    "\n",
    "\n",
    "print(X.attr)\n",
    "print(Y.attr)\n",
    "print(Z.attr)"
   ],
   "metadata": {
    "collapsed": false,
    "ExecuteTime": {
     "start_time": "2023-04-14T13:15:06.108121Z",
     "end_time": "2023-04-14T13:15:06.129121Z"
    }
   }
  },
  {
   "cell_type": "code",
   "execution_count": null,
   "outputs": [],
   "source": [],
   "metadata": {
    "collapsed": false
   }
  }
 ],
 "metadata": {
  "kernelspec": {
   "display_name": "Python 3",
   "language": "python",
   "name": "python3"
  },
  "language_info": {
   "codemirror_mode": {
    "name": "ipython",
    "version": 2
   },
   "file_extension": ".py",
   "mimetype": "text/x-python",
   "name": "python",
   "nbconvert_exporter": "python",
   "pygments_lexer": "ipython2",
   "version": "2.7.6"
  }
 },
 "nbformat": 4,
 "nbformat_minor": 0
}
