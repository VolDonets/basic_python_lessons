{
 "cells": [
  {
   "cell_type": "markdown",
   "source": [
    "-> SHALLOW COPY: one level deep, only references of nested child objects\n",
    "-> DEEP COPY: full independent copy"
   ],
   "metadata": {
    "collapsed": false
   }
  },
  {
   "cell_type": "code",
   "execution_count": 1,
   "metadata": {
    "collapsed": true
   },
   "outputs": [
    {
     "name": "stdout",
     "output_type": "stream",
     "text": [
      "5\n",
      "6\n"
     ]
    }
   ],
   "source": [
    "org = 5\n",
    "cpy = org\n",
    "cpy = 6\n",
    "\n",
    "print(org)\n",
    "print(cpy)"
   ]
  },
  {
   "cell_type": "code",
   "execution_count": 2,
   "outputs": [
    {
     "name": "stdout",
     "output_type": "stream",
     "text": [
      "[-10, 1, 2, 3, 4, 5]\n",
      "[-10, 1, 2, 3, 4, 5]\n"
     ]
    }
   ],
   "source": [
    "org = [0, 1, 2, 3, 4, 5]\n",
    "cpy = org\n",
    "cpy[0] = -10\n",
    "\n",
    "print(org)\n",
    "print(cpy)"
   ],
   "metadata": {
    "collapsed": false
   }
  },
  {
   "cell_type": "code",
   "execution_count": 3,
   "outputs": [
    {
     "name": "stdout",
     "output_type": "stream",
     "text": [
      "[0, 1, 2, 3, 4, 5]\n",
      "[-10, 1, 2, 3, 4, 5]\n"
     ]
    }
   ],
   "source": [
    "import copy\n",
    "\n",
    "org = [0, 1, 2, 3, 4, 5]\n",
    "cpy = copy.copy(org)\n",
    "cpy[0] = -10\n",
    "\n",
    "print(org)\n",
    "print(cpy)"
   ],
   "metadata": {
    "collapsed": false
   }
  },
  {
   "cell_type": "code",
   "execution_count": 4,
   "outputs": [
    {
     "name": "stdout",
     "output_type": "stream",
     "text": [
      "[0, 1, 2, 3, 4, 5]\n",
      "[-10, 1, 2, 3, 4, 5]\n"
     ]
    }
   ],
   "source": [
    "org = [0, 1, 2, 3, 4, 5]\n",
    "cpy = org.copy()\n",
    "cpy[0] = -10\n",
    "\n",
    "print(org)\n",
    "print(cpy)"
   ],
   "metadata": {
    "collapsed": false
   }
  },
  {
   "cell_type": "code",
   "execution_count": 5,
   "outputs": [
    {
     "name": "stdout",
     "output_type": "stream",
     "text": [
      "[0, 1, 2, 3, 4, 5]\n",
      "[-10, 1, 2, 3, 4, 5]\n"
     ]
    }
   ],
   "source": [
    "org = [0, 1, 2, 3, 4, 5]\n",
    "cpy = list(org)\n",
    "cpy[0] = -10\n",
    "\n",
    "print(org)\n",
    "print(cpy)"
   ],
   "metadata": {
    "collapsed": false
   }
  },
  {
   "cell_type": "code",
   "execution_count": 6,
   "outputs": [
    {
     "name": "stdout",
     "output_type": "stream",
     "text": [
      "[0, 1, 2, 3, 4, 5]\n",
      "[-10, 1, 2, 3, 4, 5]\n"
     ]
    }
   ],
   "source": [
    "org = [0, 1, 2, 3, 4, 5]\n",
    "cpy = org[:]\n",
    "cpy[0] = -10\n",
    "\n",
    "print(org)\n",
    "print(cpy)"
   ],
   "metadata": {
    "collapsed": false
   }
  },
  {
   "cell_type": "markdown",
   "source": [
    "# with more level deep"
   ],
   "metadata": {
    "collapsed": false
   }
  },
  {
   "cell_type": "code",
   "execution_count": 7,
   "outputs": [
    {
     "name": "stdout",
     "output_type": "stream",
     "text": [
      "[[0, -10, 2, 3, 4], [5, 6, 7, 8, 9]]\n",
      "[[0, -10, 2, 3, 4], [5, 6, 7, 8, 9]]\n"
     ]
    }
   ],
   "source": [
    "org = [[0, 1, 2, 3, 4], [5, 6, 7, 8, 9]]\n",
    "cpy = copy.copy(org)\n",
    "cpy[0][1] = -10\n",
    "\n",
    "print(org)\n",
    "print(cpy)"
   ],
   "metadata": {
    "collapsed": false
   }
  },
  {
   "cell_type": "code",
   "execution_count": 8,
   "outputs": [
    {
     "name": "stdout",
     "output_type": "stream",
     "text": [
      "[[0, 1, 2, 3, 4], [5, 6, 7, 8, 9]]\n",
      "[[0, -10, 2, 3, 4], [5, 6, 7, 8, 9]]\n"
     ]
    }
   ],
   "source": [
    "org = [[0, 1, 2, 3, 4], [5, 6, 7, 8, 9]]\n",
    "cpy = copy.deepcopy(org)\n",
    "cpy[0][1] = -10\n",
    "\n",
    "print(org)\n",
    "print(cpy)"
   ],
   "metadata": {
    "collapsed": false
   }
  },
  {
   "cell_type": "markdown",
   "source": [
    "# Usage for custom types"
   ],
   "metadata": {
    "collapsed": false
   }
  },
  {
   "cell_type": "code",
   "execution_count": 13,
   "outputs": [],
   "source": [
    "class Person:\n",
    "    def __init__(self, name, age):\n",
    "        self.name = name\n",
    "        self.age = age\n",
    "\n",
    "    def __str__(self):\n",
    "        return f\"{self.name}: {self.age}\"\n",
    "\n",
    "\n",
    "class Company:\n",
    "    def __init__(self, boss, employee):\n",
    "        self.boss = boss\n",
    "        self.employee = employee\n",
    "\n",
    "    def __str__(self):\n",
    "        return f\"boss -> {self.boss}\\nemployee -> {self.employee}\\n\""
   ],
   "metadata": {
    "collapsed": false
   }
  },
  {
   "cell_type": "code",
   "execution_count": 11,
   "outputs": [
    {
     "name": "stdout",
     "output_type": "stream",
     "text": [
      "Alex: 28\n",
      "Alex: 28\n"
     ]
    }
   ],
   "source": [
    "p1 = Person(\"Alex\", 27)\n",
    "p2 = p1\n",
    "\n",
    "p2.age = 28\n",
    "print(p1)\n",
    "print(p2)"
   ],
   "metadata": {
    "collapsed": false
   }
  },
  {
   "cell_type": "code",
   "execution_count": 12,
   "outputs": [
    {
     "name": "stdout",
     "output_type": "stream",
     "text": [
      "Alex: 27\n",
      "Alex: 28\n"
     ]
    }
   ],
   "source": [
    "p1 = Person(\"Alex\", 27)\n",
    "p2 = copy.copy(p1)\n",
    "\n",
    "p2.age = 28\n",
    "print(p1)\n",
    "print(p2)"
   ],
   "metadata": {
    "collapsed": false
   }
  },
  {
   "cell_type": "code",
   "execution_count": 14,
   "outputs": [
    {
     "name": "stdout",
     "output_type": "stream",
     "text": [
      "boss -> Alex: 60\n",
      "employee -> Joe: 27\n",
      "\n",
      "boss -> Alex: 60\n",
      "employee -> Joe: 27\n",
      "\n"
     ]
    }
   ],
   "source": [
    "p1 = Person(\"Alex\", 55)\n",
    "p2 = Person(\"Joe\", 27)\n",
    "\n",
    "company = Company(p1, p2)\n",
    "comp_clone = copy.copy(company)\n",
    "comp_clone.boss.age = 60\n",
    "print(company)\n",
    "print(comp_clone)"
   ],
   "metadata": {
    "collapsed": false
   }
  },
  {
   "cell_type": "code",
   "execution_count": 15,
   "outputs": [
    {
     "name": "stdout",
     "output_type": "stream",
     "text": [
      "boss -> Alex: 55\n",
      "employee -> Joe: 27\n",
      "\n",
      "boss -> Alex: 60\n",
      "employee -> Joe: 27\n",
      "\n"
     ]
    }
   ],
   "source": [
    "p1 = Person(\"Alex\", 55)\n",
    "p2 = Person(\"Joe\", 27)\n",
    "\n",
    "company = Company(p1, p2)\n",
    "comp_clone = copy.deepcopy(company)\n",
    "comp_clone.boss.age = 60\n",
    "print(company)\n",
    "print(comp_clone)"
   ],
   "metadata": {
    "collapsed": false
   }
  }
 ],
 "metadata": {
  "kernelspec": {
   "display_name": "Python 3",
   "language": "python",
   "name": "python3"
  },
  "language_info": {
   "codemirror_mode": {
    "name": "ipython",
    "version": 2
   },
   "file_extension": ".py",
   "mimetype": "text/x-python",
   "name": "python",
   "nbconvert_exporter": "python",
   "pygments_lexer": "ipython2",
   "version": "2.7.6"
  }
 },
 "nbformat": 4,
 "nbformat_minor": 0
}
