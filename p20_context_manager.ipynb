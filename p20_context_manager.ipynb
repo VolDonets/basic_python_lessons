{
 "cells": [
  {
   "cell_type": "code",
   "execution_count": null,
   "metadata": {
    "collapsed": true
   },
   "outputs": [],
   "source": [
    "with open(\"notes.txt\", \"w\") as file:\n",
    "    file.write(\"some todo ....\")\n",
    "\n",
    "# or in full mode:\n",
    "file = open(\"notes.txt\", \"w\")\n",
    "try:\n",
    "    file.write(\"some todo ...\")\n",
    "    # to do something\n",
    "finally:\n",
    "    file.close()"
   ]
  },
  {
   "cell_type": "code",
   "execution_count": null,
   "outputs": [],
   "source": [
    "# with locks"
   ],
   "metadata": {
    "collapsed": false
   }
  },
  {
   "cell_type": "markdown",
   "source": [
    "# context manager for own classes"
   ],
   "metadata": {
    "collapsed": false
   }
  },
  {
   "cell_type": "code",
   "execution_count": 1,
   "outputs": [
    {
     "name": "stdout",
     "output_type": "stream",
     "text": [
      "enter\n",
      "do some stuff ...\n",
      "exc: None, None\n",
      "exit\n",
      "continuing\n"
     ]
    }
   ],
   "source": [
    "class ManagedFile:\n",
    "    def __init__(self, filename):\n",
    "        self.filename = filename\n",
    "\n",
    "    def __enter__(self):\n",
    "        print(\"enter\")\n",
    "        self.file = open(self.filename, \"w\")\n",
    "        return self.file\n",
    "\n",
    "    def __exit__(self, exc_type, exc_val, exc_tb):\n",
    "        if self.file:\n",
    "            self.file.close()\n",
    "        print(f\"exc: {exc_tb}, {exc_val}\")\n",
    "        print(\"exit\")\n",
    "\n",
    "\n",
    "with ManagedFile(\"notes.txt\") as file:\n",
    "    print(\"do some stuff ...\")\n",
    "    file.write(\"some todo ...\")\n",
    "print(\"continuing\")"
   ],
   "metadata": {
    "collapsed": false
   }
  },
  {
   "cell_type": "code",
   "execution_count": 2,
   "outputs": [
    {
     "name": "stdout",
     "output_type": "stream",
     "text": [
      "enter\n",
      "do some stuff ...\n",
      "exc: <traceback object at 0x000002526B332580>, '_io.TextIOWrapper' object has no attribute 'somemethond'\n",
      "exit\n"
     ]
    },
    {
     "ename": "AttributeError",
     "evalue": "'_io.TextIOWrapper' object has no attribute 'somemethond'",
     "output_type": "error",
     "traceback": [
      "\u001B[1;31m---------------------------------------------------------------------------\u001B[0m",
      "\u001B[1;31mAttributeError\u001B[0m                            Traceback (most recent call last)",
      "Cell \u001B[1;32mIn [2], line 4\u001B[0m\n\u001B[0;32m      2\u001B[0m     \u001B[38;5;28mprint\u001B[39m(\u001B[38;5;124m\"\u001B[39m\u001B[38;5;124mdo some stuff ...\u001B[39m\u001B[38;5;124m\"\u001B[39m)\n\u001B[0;32m      3\u001B[0m     file\u001B[38;5;241m.\u001B[39mwrite(\u001B[38;5;124m\"\u001B[39m\u001B[38;5;124msome todo ...\u001B[39m\u001B[38;5;124m\"\u001B[39m)\n\u001B[1;32m----> 4\u001B[0m     \u001B[43mfile\u001B[49m\u001B[38;5;241;43m.\u001B[39;49m\u001B[43msomemethond\u001B[49m()\n\u001B[0;32m      5\u001B[0m \u001B[38;5;28mprint\u001B[39m(\u001B[38;5;124m\"\u001B[39m\u001B[38;5;124mcontinuing\u001B[39m\u001B[38;5;124m\"\u001B[39m)\n",
      "\u001B[1;31mAttributeError\u001B[0m: '_io.TextIOWrapper' object has no attribute 'somemethond'"
     ]
    }
   ],
   "source": [
    "with ManagedFile(\"notes.txt\") as file:\n",
    "    print(\"do some stuff ...\")\n",
    "    file.write(\"some todo ...\")\n",
    "    file.somemethond()\n",
    "print(\"continuing\")"
   ],
   "metadata": {
    "collapsed": false
   }
  },
  {
   "cell_type": "code",
   "execution_count": 3,
   "outputs": [],
   "source": [
    "class ManagedFile:\n",
    "    def __init__(self, filename):\n",
    "        self.filename = filename\n",
    "\n",
    "    def __enter__(self):\n",
    "        print(\"enter\")\n",
    "        self.file = open(self.filename, \"w\")\n",
    "        return self.file\n",
    "\n",
    "    def __exit__(self, exc_type, exc_val, exc_tb):\n",
    "        if self.file:\n",
    "            self.file.close()\n",
    "        if exc_tb:\n",
    "            print(\"exception has been handled\")\n",
    "        print(f\"exc: {exc_tb}, {exc_val}\")\n",
    "        print(\"exit\")\n",
    "        return True"
   ],
   "metadata": {
    "collapsed": false
   }
  },
  {
   "cell_type": "code",
   "execution_count": 4,
   "outputs": [
    {
     "name": "stdout",
     "output_type": "stream",
     "text": [
      "enter\n",
      "do some stuff ...\n",
      "exception has been handled\n",
      "exc: <traceback object at 0x000002526BA83300>, '_io.TextIOWrapper' object has no attribute 'somemethond'\n",
      "exit\n",
      "continuing\n"
     ]
    }
   ],
   "source": [
    "with ManagedFile(\"notes.txt\") as file:\n",
    "    print(\"do some stuff ...\")\n",
    "    file.write(\"some todo ...\")\n",
    "    file.somemethond()\n",
    "print(\"continuing\")"
   ],
   "metadata": {
    "collapsed": false
   }
  },
  {
   "cell_type": "markdown",
   "source": [
    "# implement context manager as function"
   ],
   "metadata": {
    "collapsed": false
   }
  },
  {
   "cell_type": "code",
   "execution_count": 5,
   "outputs": [],
   "source": [
    "from contextlib import contextmanager\n",
    "\n",
    "\n",
    "@contextmanager\n",
    "def open_managed_file(filename):\n",
    "    f = open(filename, \"w\")\n",
    "    try:\n",
    "        yield f\n",
    "    finally:\n",
    "        f.close()"
   ],
   "metadata": {
    "collapsed": false
   }
  },
  {
   "cell_type": "code",
   "execution_count": 6,
   "outputs": [],
   "source": [
    "with open_managed_file(\"notes.txt\") as f:\n",
    "    f.write(\"some todo ...fj \")"
   ],
   "metadata": {
    "collapsed": false
   }
  },
  {
   "cell_type": "code",
   "execution_count": 7,
   "outputs": [
    {
     "ename": "AttributeError",
     "evalue": "'_io.TextIOWrapper' object has no attribute 'somefunc'",
     "output_type": "error",
     "traceback": [
      "\u001B[1;31m---------------------------------------------------------------------------\u001B[0m",
      "\u001B[1;31mAttributeError\u001B[0m                            Traceback (most recent call last)",
      "Cell \u001B[1;32mIn [7], line 3\u001B[0m\n\u001B[0;32m      1\u001B[0m \u001B[38;5;28;01mwith\u001B[39;00m open_managed_file(\u001B[38;5;124m\"\u001B[39m\u001B[38;5;124mnotes.txt\u001B[39m\u001B[38;5;124m\"\u001B[39m) \u001B[38;5;28;01mas\u001B[39;00m f:\n\u001B[0;32m      2\u001B[0m     f\u001B[38;5;241m.\u001B[39mwrite(\u001B[38;5;124m\"\u001B[39m\u001B[38;5;124msome todo ...fj \u001B[39m\u001B[38;5;124m\"\u001B[39m)\n\u001B[1;32m----> 3\u001B[0m     \u001B[43mf\u001B[49m\u001B[38;5;241;43m.\u001B[39;49m\u001B[43msomefunc\u001B[49m()\n",
      "\u001B[1;31mAttributeError\u001B[0m: '_io.TextIOWrapper' object has no attribute 'somefunc'"
     ]
    }
   ],
   "source": [
    "with open_managed_file(\"notes.txt\") as f:\n",
    "    f.write(\"some todo ...fj \")\n",
    "    f.somefunc()"
   ],
   "metadata": {
    "collapsed": false
   }
  },
  {
   "cell_type": "code",
   "execution_count": null,
   "outputs": [],
   "source": [],
   "metadata": {
    "collapsed": false
   }
  }
 ],
 "metadata": {
  "kernelspec": {
   "display_name": "Python 3",
   "language": "python",
   "name": "python3"
  },
  "language_info": {
   "codemirror_mode": {
    "name": "ipython",
    "version": 2
   },
   "file_extension": ".py",
   "mimetype": "text/x-python",
   "name": "python",
   "nbconvert_exporter": "python",
   "pygments_lexer": "ipython2",
   "version": "2.7.6"
  }
 },
 "nbformat": 4,
 "nbformat_minor": 0
}
