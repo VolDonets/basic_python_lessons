{
 "cells": [
  {
   "cell_type": "markdown",
   "source": [
    "# Strings: ordered, immutable, text representation"
   ],
   "metadata": {
    "collapsed": false
   }
  },
  {
   "cell_type": "code",
   "execution_count": 1,
   "outputs": [],
   "source": [
    "import time"
   ],
   "metadata": {
    "collapsed": false
   }
  },
  {
   "cell_type": "code",
   "execution_count": 3,
   "outputs": [
    {
     "name": "stdout",
     "output_type": "stream",
     "text": [
      "time: 0.10102391242980957\n"
     ]
    }
   ],
   "source": [
    "list_a = [\"a\"] * 1_000_000\n",
    "\n",
    "start_time = time.time()\n",
    "str_a = \"\"\n",
    "for la in list_a:\n",
    "    str_a += la\n",
    "end_time = time.time()\n",
    "print(f\"time: {end_time - start_time}\")"
   ],
   "metadata": {
    "collapsed": false
   }
  },
  {
   "cell_type": "code",
   "execution_count": 5,
   "outputs": [
    {
     "name": "stdout",
     "output_type": "stream",
     "text": [
      "time: 0.004999876022338867\n"
     ]
    }
   ],
   "source": [
    "start_time = time.time()\n",
    "str_a = \"\".join(list_a)\n",
    "end_time = time.time()\n",
    "print(f\"time: {end_time - start_time}\")"
   ],
   "metadata": {
    "collapsed": false
   }
  },
  {
   "cell_type": "markdown",
   "source": [
    "# %, .format(), f-strings"
   ],
   "metadata": {
    "collapsed": false
   }
  },
  {
   "cell_type": "code",
   "execution_count": 9,
   "outputs": [
    {
     "name": "stdout",
     "output_type": "stream",
     "text": [
      "the variable is Tom\n",
      "the variable is 4\n",
      "the variable is 4.133183\n",
      "the variable is 4.13\n"
     ]
    }
   ],
   "source": [
    "var = \"Tom\"\n",
    "print(\"the variable is %s\" % var)\n",
    "\n",
    "var = 4\n",
    "print(\"the variable is %d\" % var)\n",
    "\n",
    "var = 4.133183211123\n",
    "print(\"the variable is %f\" % var)\n",
    "print(\"the variable is %.2f\" % var)"
   ],
   "metadata": {
    "collapsed": false
   }
  },
  {
   "cell_type": "code",
   "execution_count": 12,
   "outputs": [
    {
     "name": "stdout",
     "output_type": "stream",
     "text": [
      "the var is 4.1338173661\n",
      "the var is 4.13\n",
      "the var is 4.13 6\n"
     ]
    }
   ],
   "source": [
    "var = 4.1338173661\n",
    "var_2 = 6\n",
    "print(\"the var is {}\".format(var))\n",
    "print(\"the var is {:.2f}\".format(var))\n",
    "print(\"the var is {:.2f} {}\".format(var, var_2))"
   ],
   "metadata": {
    "collapsed": false
   }
  },
  {
   "cell_type": "code",
   "execution_count": 14,
   "outputs": [
    {
     "name": "stdout",
     "output_type": "stream",
     "text": [
      "the vars is 4.1338173661, 6\n",
      "the vars is 8.2676347322, 6\n"
     ]
    }
   ],
   "source": [
    "print(f\"the vars is {var}, {var_2}\")\n",
    "print(f\"the vars is {var * 2}, {var_2}\")"
   ],
   "metadata": {
    "collapsed": false
   }
  }
 ],
 "metadata": {
  "kernelspec": {
   "display_name": "Python 3",
   "language": "python",
   "name": "python3"
  },
  "language_info": {
   "codemirror_mode": {
    "name": "ipython",
    "version": 2
   },
   "file_extension": ".py",
   "mimetype": "text/x-python",
   "name": "python",
   "nbconvert_exporter": "python",
   "pygments_lexer": "ipython2",
   "version": "2.7.6"
  }
 },
 "nbformat": 4,
 "nbformat_minor": 0
}
