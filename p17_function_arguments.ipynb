{
 "cells": [
  {
   "cell_type": "markdown",
   "source": [
    "* The difference between arguments and parameters\n",
    "* Position and keyword arguments\n",
    "* Default arguments\n",
    "* Variable-length arguments (*args and **kwargs)\n",
    "* Container unpacking into function arguments\n",
    "* locals vs. global arguments inside a function\n",
    "* Parameter passing (by value or by reference?)"
   ],
   "metadata": {
    "collapsed": false
   }
  },
  {
   "cell_type": "markdown",
   "source": [
    "# The difference between arguments and parameters\n"
   ],
   "metadata": {
    "collapsed": false
   }
  },
  {
   "cell_type": "code",
   "execution_count": 2,
   "outputs": [],
   "source": [
    "def print_name(name):\n",
    "    count = 3\n",
    "    for _ in range(count):\n",
    "        print(f\"name: {name}\")\n",
    "\n",
    "    # where:\n",
    "    # count -- parameter\n",
    "    # name -- argument"
   ],
   "metadata": {
    "collapsed": false
   }
  },
  {
   "cell_type": "markdown",
   "source": [
    "# Position and keyword arguments\n",
    "# Default arguments"
   ],
   "metadata": {
    "collapsed": false
   }
  },
  {
   "cell_type": "code",
   "execution_count": 1,
   "outputs": [],
   "source": [
    "pass"
   ],
   "metadata": {
    "collapsed": false
   }
  },
  {
   "cell_type": "markdown",
   "source": [
    "# Variable-length arguments (*args and **kwargs)"
   ],
   "metadata": {
    "collapsed": false
   }
  },
  {
   "cell_type": "code",
   "execution_count": 3,
   "outputs": [
    {
     "name": "stdout",
     "output_type": "stream",
     "text": [
      "1 2\n",
      "3\n",
      "4\n",
      "5\n",
      "kwargs[six] = 6\n",
      "kwargs[seven] = 7\n"
     ]
    }
   ],
   "source": [
    "# *args -- tuple\n",
    "# **kwargs -- dictionary\n",
    "\n",
    "def foo(a, b, *args, **kwargs):\n",
    "    print(a, b)\n",
    "    for arg in args:\n",
    "        print(arg)\n",
    "    for key in kwargs:\n",
    "        print(f\"kwargs[{key}] = {kwargs[key]}\")\n",
    "\n",
    "\n",
    "foo(1, 2, 3, 4, 5, six=6, seven=7)"
   ],
   "metadata": {
    "collapsed": false
   }
  },
  {
   "cell_type": "code",
   "execution_count": 5,
   "outputs": [
    {
     "name": "stdout",
     "output_type": "stream",
     "text": [
      "1 2\n",
      "kwargs[six] = 6\n",
      "kwargs[seven] = 7\n"
     ]
    }
   ],
   "source": [
    "foo(1, 2, six=6, seven=7)"
   ],
   "metadata": {
    "collapsed": false
   }
  },
  {
   "cell_type": "code",
   "execution_count": 6,
   "outputs": [
    {
     "name": "stdout",
     "output_type": "stream",
     "text": [
      "1 2\n",
      "3\n",
      "4\n",
      "5\n"
     ]
    }
   ],
   "source": [
    "foo(1, 2, 3, 4, 5)"
   ],
   "metadata": {
    "collapsed": false
   }
  },
  {
   "cell_type": "code",
   "execution_count": 9,
   "outputs": [
    {
     "name": "stdout",
     "output_type": "stream",
     "text": [
      "1 2 3 4\n"
     ]
    }
   ],
   "source": [
    "def foo(a, b, *, c, d):\n",
    "    print(a, b, c, d)\n",
    "\n",
    "\n",
    "foo(1, 2, c=3, d=4)"
   ],
   "metadata": {
    "collapsed": false
   }
  },
  {
   "cell_type": "code",
   "execution_count": 10,
   "outputs": [
    {
     "name": "stdout",
     "output_type": "stream",
     "text": [
      "1\n",
      "2\n",
      "3 4\n"
     ]
    }
   ],
   "source": [
    "def foo(*args, c, d):\n",
    "    for arg in args:\n",
    "        print(arg)\n",
    "    print(c, d)\n",
    "\n",
    "\n",
    "foo(1, 2, c=3, d=4)"
   ],
   "metadata": {
    "collapsed": false
   }
  },
  {
   "cell_type": "markdown",
   "source": [
    "# Container unpacking into function arguments"
   ],
   "metadata": {
    "collapsed": false
   }
  },
  {
   "cell_type": "code",
   "execution_count": 11,
   "outputs": [
    {
     "name": "stdout",
     "output_type": "stream",
     "text": [
      "0 1 2\n",
      "3 4 5\n",
      "6 7 8\n"
     ]
    }
   ],
   "source": [
    "def foo(a, b, c):\n",
    "    print(a, b, c)\n",
    "\n",
    "\n",
    "my_list = [0, 1, 2]\n",
    "my_tuple = (3, 4, 5)\n",
    "my_dict = {\"a\": 6, \"b\": 7, \"c\": 8}\n",
    "\n",
    "foo(*my_list)  # unpack list\n",
    "foo(*my_tuple)  # unpack tuple\n",
    "foo(**my_dict)  # unpack dict"
   ],
   "metadata": {
    "collapsed": false
   }
  },
  {
   "cell_type": "markdown",
   "source": [
    "# Locals vs. global arguments inside a function"
   ],
   "metadata": {
    "collapsed": false
   }
  },
  {
   "cell_type": "code",
   "execution_count": 12,
   "outputs": [
    {
     "name": "stdout",
     "output_type": "stream",
     "text": [
      "print number inside function: 0\n"
     ]
    }
   ],
   "source": [
    "def foo():\n",
    "    x = number\n",
    "    print(\"print number inside function:\", x)\n",
    "\n",
    "\n",
    "number = 0\n",
    "foo()"
   ],
   "metadata": {
    "collapsed": false
   }
  },
  {
   "cell_type": "code",
   "execution_count": 13,
   "outputs": [
    {
     "ename": "UnboundLocalError",
     "evalue": "local variable 'number' referenced before assignment",
     "output_type": "error",
     "traceback": [
      "\u001B[1;31m---------------------------------------------------------------------------\u001B[0m",
      "\u001B[1;31mUnboundLocalError\u001B[0m                         Traceback (most recent call last)",
      "Cell \u001B[1;32mIn [13], line 9\u001B[0m\n\u001B[0;32m      5\u001B[0m     number \u001B[38;5;241m=\u001B[39m \u001B[38;5;241m3\u001B[39m\n\u001B[0;32m      8\u001B[0m number \u001B[38;5;241m=\u001B[39m \u001B[38;5;241m0\u001B[39m\n\u001B[1;32m----> 9\u001B[0m \u001B[43mfoo\u001B[49m\u001B[43m(\u001B[49m\u001B[43m)\u001B[49m\n",
      "Cell \u001B[1;32mIn [13], line 2\u001B[0m, in \u001B[0;36mfoo\u001B[1;34m()\u001B[0m\n\u001B[0;32m      1\u001B[0m \u001B[38;5;28;01mdef\u001B[39;00m \u001B[38;5;21mfoo\u001B[39m():\n\u001B[1;32m----> 2\u001B[0m     x \u001B[38;5;241m=\u001B[39m \u001B[43mnumber\u001B[49m\n\u001B[0;32m      3\u001B[0m     \u001B[38;5;28mprint\u001B[39m(\u001B[38;5;124m\"\u001B[39m\u001B[38;5;124mprint number inside function:\u001B[39m\u001B[38;5;124m\"\u001B[39m, x)\n\u001B[0;32m      4\u001B[0m     \u001B[38;5;28mprint\u001B[39m(\u001B[38;5;124m\"\u001B[39m\u001B[38;5;124mtry to modify number:\u001B[39m\u001B[38;5;124m\"\u001B[39m)\n",
      "\u001B[1;31mUnboundLocalError\u001B[0m: local variable 'number' referenced before assignment"
     ]
    }
   ],
   "source": [
    "def foo():\n",
    "    x = number\n",
    "    print(\"print number inside function:\", x)\n",
    "    print(\"try to modify number:\")\n",
    "    number = 3\n",
    "\n",
    "\n",
    "number = 0\n",
    "foo()"
   ],
   "metadata": {
    "collapsed": false
   }
  },
  {
   "cell_type": "code",
   "execution_count": 14,
   "outputs": [
    {
     "name": "stdout",
     "output_type": "stream",
     "text": [
      "print number inside function: 0\n",
      "try to modify number:\n",
      "after foo 3\n"
     ]
    }
   ],
   "source": [
    "def foo():\n",
    "    global number\n",
    "    x = number\n",
    "    print(\"print number inside function:\", x)\n",
    "    print(\"try to modify number:\")\n",
    "    number = 3\n",
    "\n",
    "\n",
    "number = 0\n",
    "foo()\n",
    "print(f\"after foo {number}\")"
   ],
   "metadata": {
    "collapsed": false
   }
  },
  {
   "cell_type": "markdown",
   "source": [
    "# Parameter passing (by value or by reference?)\n",
    "\n",
    "In Python there is the other mechanism, known as \"CALL BY OBJECT-REFERENCE\":\n",
    "* mutable object can be changed, but resigning doesn't change the original object reference\n",
    "* immutable object, can't be changed inside inner method, but can be resigned."
   ],
   "metadata": {
    "collapsed": false
   }
  },
  {
   "cell_type": "code",
   "execution_count": 15,
   "outputs": [
    {
     "name": "stdout",
     "output_type": "stream",
     "text": [
      "10\n"
     ]
    }
   ],
   "source": [
    "def foo(x):\n",
    "    x = 5\n",
    "\n",
    "var = 10\n",
    "foo(var)\n",
    "print(var)"
   ],
   "metadata": {
    "collapsed": false
   }
  },
  {
   "cell_type": "code",
   "execution_count": 16,
   "outputs": [
    {
     "name": "stdout",
     "output_type": "stream",
     "text": [
      "[1, 2, 3, 4]\n"
     ]
    }
   ],
   "source": [
    "def foo(a_list):\n",
    "    a_list.append(4)\n",
    "\n",
    "\n",
    "my_list = [1, 2, 3]\n",
    "foo(my_list)\n",
    "print(my_list)"
   ],
   "metadata": {
    "collapsed": false
   }
  },
  {
   "cell_type": "code",
   "execution_count": 18,
   "outputs": [
    {
     "name": "stdout",
     "output_type": "stream",
     "text": [
      "[1, 2, 3]\n"
     ]
    }
   ],
   "source": [
    "def foo(a_list):\n",
    "    a_list = [200, 300, 400]\n",
    "    a_list.append(4)\n",
    "\n",
    "\n",
    "my_list = [1, 2, 3]\n",
    "foo(my_list)\n",
    "print(my_list)"
   ],
   "metadata": {
    "collapsed": false
   }
  },
  {
   "cell_type": "code",
   "execution_count": 19,
   "outputs": [
    {
     "name": "stdout",
     "output_type": "stream",
     "text": [
      "[1, 2, 3, 200, 300, 400, 4]\n"
     ]
    }
   ],
   "source": [
    "def foo(a_list):\n",
    "    a_list += [200, 300, 400]\n",
    "    a_list.append(4)\n",
    "\n",
    "\n",
    "my_list = [1, 2, 3]\n",
    "foo(my_list)\n",
    "print(my_list)"
   ],
   "metadata": {
    "collapsed": false
   }
  },
  {
   "cell_type": "code",
   "execution_count": 20,
   "outputs": [
    {
     "name": "stdout",
     "output_type": "stream",
     "text": [
      "[1, 2, 3]\n"
     ]
    }
   ],
   "source": [
    "def foo(a_list):\n",
    "    a_list = a_list + [200, 300, 400]\n",
    "    a_list.append(4)\n",
    "\n",
    "\n",
    "my_list = [1, 2, 3]\n",
    "foo(my_list)\n",
    "print(my_list)"
   ],
   "metadata": {
    "collapsed": false
   }
  }
 ],
 "metadata": {
  "kernelspec": {
   "display_name": "Python 3",
   "language": "python",
   "name": "python3"
  },
  "language_info": {
   "codemirror_mode": {
    "name": "ipython",
    "version": 2
   },
   "file_extension": ".py",
   "mimetype": "text/x-python",
   "name": "python",
   "nbconvert_exporter": "python",
   "pygments_lexer": "ipython2",
   "version": "2.7.6"
  }
 },
 "nbformat": 4,
 "nbformat_minor": 0
}
