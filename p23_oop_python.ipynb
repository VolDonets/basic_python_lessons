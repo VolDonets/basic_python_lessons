{
 "cells": [
  {
   "cell_type": "code",
   "execution_count": 4,
   "metadata": {
    "collapsed": true,
    "ExecuteTime": {
     "start_time": "2023-04-23T10:37:07.761536Z",
     "end_time": "2023-04-23T10:37:07.788154Z"
    }
   },
   "outputs": [],
   "source": [
    "class Car:\n",
    "    year = 2016\n",
    "    kmph = 120\n",
    "    total = 100_000"
   ]
  },
  {
   "cell_type": "code",
   "execution_count": 5,
   "outputs": [
    {
     "name": "stdout",
     "output_type": "stream",
     "text": [
      "Car.year 2016\n",
      "Car.kmph 120\n",
      "Car.total 100000\n"
     ]
    }
   ],
   "source": [
    "print(f\"Car.year {Car.year}\")\n",
    "print(f\"Car.kmph {Car.kmph}\")\n",
    "print(f\"Car.total {Car.total}\")"
   ],
   "metadata": {
    "collapsed": false,
    "ExecuteTime": {
     "start_time": "2023-04-23T10:37:07.780108Z",
     "end_time": "2023-04-23T10:37:07.808422Z"
    }
   }
  },
  {
   "cell_type": "code",
   "execution_count": 6,
   "outputs": [
    {
     "name": "stdout",
     "output_type": "stream",
     "text": [
      "car.year 1999\n",
      "car.bean bob\n",
      "Car.year 2016\n",
      "Car.year 2000\n"
     ]
    }
   ],
   "source": [
    "car = Car()\n",
    "car.year = 1999\n",
    "car.bean = 'bob'\n",
    "print(f\"car.year {car.year}\")\n",
    "print(f\"car.bean {car.bean}\")\n",
    "\n",
    "print(f\"Car.year {Car.year}\")\n",
    "Car.year = 2000\n",
    "print(f\"Car.year {Car.year}\")"
   ],
   "metadata": {
    "collapsed": false,
    "ExecuteTime": {
     "start_time": "2023-04-23T10:37:07.795845Z",
     "end_time": "2023-04-23T10:37:07.809931Z"
    }
   }
  },
  {
   "cell_type": "code",
   "execution_count": 8,
   "outputs": [],
   "source": [
    "class Car:\n",
    "    def __init__(self, year, kmph, total):\n",
    "        self.year = year\n",
    "        self.kmph = kmph\n",
    "        self.total = total"
   ],
   "metadata": {
    "collapsed": false,
    "ExecuteTime": {
     "start_time": "2023-04-23T10:42:28.101788Z",
     "end_time": "2023-04-23T10:42:28.108742Z"
    }
   }
  },
  {
   "cell_type": "code",
   "execution_count": 9,
   "outputs": [
    {
     "name": "stdout",
     "output_type": "stream",
     "text": [
      "car_3.total = 120000\n",
      "car_1.total = 20000\n",
      "car_2.total = 20000\n",
      "car_3.total = 121000\n"
     ]
    }
   ],
   "source": [
    "car_1 = Car(year=1999, kmph=20, total=20_000)\n",
    "car_2 = Car(year=2000, kmph=120, total=20_000)\n",
    "car_3 = Car(year=2010, kmph=0, total=120_000)\n",
    "\n",
    "print(f\"car_3.total = {car_3.total}\")\n",
    "car_3.total += 1_000\n",
    "\n",
    "print(f\"car_1.total = {car_1.total}\")\n",
    "print(f\"car_2.total = {car_2.total}\")\n",
    "print(f\"car_3.total = {car_3.total}\")"
   ],
   "metadata": {
    "collapsed": false,
    "ExecuteTime": {
     "start_time": "2023-04-23T10:42:28.798625Z",
     "end_time": "2023-04-23T10:42:28.809882Z"
    }
   }
  },
  {
   "cell_type": "code",
   "execution_count": 24,
   "outputs": [],
   "source": [
    "class Cab:\n",
    "    numofcabs = 0   # count times took a cab\n",
    "    numpassengers = 0   # count passengers\n",
    "\n",
    "    def __init__(self, driver_id, distance, places, price, passengers):\n",
    "        if not Cab.check_min_bill(price):\n",
    "            raise Exception(\"You can't took a cab with price less than 20$\")\n",
    "\n",
    "        self.driver_id = driver_id\n",
    "        self.distance = distance\n",
    "        self.places = places\n",
    "        self.price = price\n",
    "        self.passengers = passengers\n",
    "\n",
    "        Cab.numofcabs += 1\n",
    "        Cab.numpassengers += self.passengers\n",
    "\n",
    "    def km_price(self):\n",
    "        return self.distance / self.price\n",
    "\n",
    "    def get_destination(self):\n",
    "        return self.places[-1]\n",
    "\n",
    "    @classmethod\n",
    "    def avg_count_passengers(cls):\n",
    "        return cls.numpassengers / cls.numofcabs\n",
    "\n",
    "    @staticmethod\n",
    "    def check_min_bill(bill):\n",
    "        return int(bill) >= 20\n"
   ],
   "metadata": {
    "collapsed": false,
    "ExecuteTime": {
     "start_time": "2023-04-23T11:12:47.488521Z",
     "end_time": "2023-04-23T11:12:47.501906Z"
    }
   }
  },
  {
   "cell_type": "code",
   "execution_count": 25,
   "outputs": [],
   "source": [
    "cab_1 = Cab(10102843, 201, (\"Kyiv\", \"Bonbon\", \"New York\"), 20_000, 30)\n",
    "cab_2 = Cab(10102843, 2, (\"Kyiv\", \"Bonbon\"), 40_000, 1)\n",
    "cab_3 = Cab(10102843, 2.2, (\"Kyiv\", \"New York\"), 20, 1)\n",
    "cab_4 = Cab(10102843, 2.3, (\"Kyiv\", \"New York\"),36, 0)"
   ],
   "metadata": {
    "collapsed": false,
    "ExecuteTime": {
     "start_time": "2023-04-23T11:12:51.226422Z",
     "end_time": "2023-04-23T11:12:51.305193Z"
    }
   }
  },
  {
   "cell_type": "code",
   "execution_count": 26,
   "outputs": [
    {
     "name": "stdout",
     "output_type": "stream",
     "text": [
      "8.0\n"
     ]
    }
   ],
   "source": [
    "print(cab_1.avg_count_passengers())"
   ],
   "metadata": {
    "collapsed": false,
    "ExecuteTime": {
     "start_time": "2023-04-23T11:12:51.995457Z",
     "end_time": "2023-04-23T11:12:52.024787Z"
    }
   }
  },
  {
   "cell_type": "code",
   "execution_count": 27,
   "outputs": [
    {
     "data": {
      "text/plain": "True"
     },
     "execution_count": 27,
     "metadata": {},
     "output_type": "execute_result"
    }
   ],
   "source": [
    "Cab.check_min_bill(30)"
   ],
   "metadata": {
    "collapsed": false,
    "ExecuteTime": {
     "start_time": "2023-04-23T11:12:52.964078Z",
     "end_time": "2023-04-23T11:12:52.969784Z"
    }
   }
  },
  {
   "cell_type": "code",
   "execution_count": 22,
   "outputs": [
    {
     "data": {
      "text/plain": "False"
     },
     "execution_count": 22,
     "metadata": {},
     "output_type": "execute_result"
    }
   ],
   "source": [
    "Cab.check_min_bill(-20)"
   ],
   "metadata": {
    "collapsed": false,
    "ExecuteTime": {
     "start_time": "2023-04-23T11:10:00.180840Z",
     "end_time": "2023-04-23T11:10:00.188668Z"
    }
   }
  },
  {
   "cell_type": "code",
   "execution_count": 28,
   "outputs": [
    {
     "ename": "Exception",
     "evalue": "You can't took a cab with price less than 20$",
     "output_type": "error",
     "traceback": [
      "\u001B[1;31m---------------------------------------------------------------------------\u001B[0m",
      "\u001B[1;31mException\u001B[0m                                 Traceback (most recent call last)",
      "Cell \u001B[1;32mIn [28], line 1\u001B[0m\n\u001B[1;32m----> 1\u001B[0m cab_4 \u001B[38;5;241m=\u001B[39m \u001B[43mCab\u001B[49m\u001B[43m(\u001B[49m\u001B[38;5;241;43m10102843\u001B[39;49m\u001B[43m,\u001B[49m\u001B[43m \u001B[49m\u001B[38;5;241;43m2.3\u001B[39;49m\u001B[43m,\u001B[49m\u001B[43m \u001B[49m\u001B[43m(\u001B[49m\u001B[38;5;124;43m\"\u001B[39;49m\u001B[38;5;124;43mKyiv\u001B[39;49m\u001B[38;5;124;43m\"\u001B[39;49m\u001B[43m,\u001B[49m\u001B[43m \u001B[49m\u001B[38;5;124;43m\"\u001B[39;49m\u001B[38;5;124;43mNew York\u001B[39;49m\u001B[38;5;124;43m\"\u001B[39;49m\u001B[43m)\u001B[49m\u001B[43m,\u001B[49m\u001B[38;5;241;43m12\u001B[39;49m\u001B[43m,\u001B[49m\u001B[43m \u001B[49m\u001B[38;5;241;43m0\u001B[39;49m\u001B[43m)\u001B[49m\n",
      "Cell \u001B[1;32mIn [24], line 7\u001B[0m, in \u001B[0;36mCab.__init__\u001B[1;34m(self, driver_id, distance, places, price, passengers)\u001B[0m\n\u001B[0;32m      5\u001B[0m \u001B[38;5;28;01mdef\u001B[39;00m \u001B[38;5;21m__init__\u001B[39m(\u001B[38;5;28mself\u001B[39m, driver_id, distance, places, price, passengers):\n\u001B[0;32m      6\u001B[0m     \u001B[38;5;28;01mif\u001B[39;00m \u001B[38;5;129;01mnot\u001B[39;00m Cab\u001B[38;5;241m.\u001B[39mcheck_min_bill(price):\n\u001B[1;32m----> 7\u001B[0m         \u001B[38;5;28;01mraise\u001B[39;00m \u001B[38;5;167;01mException\u001B[39;00m(\u001B[38;5;124m\"\u001B[39m\u001B[38;5;124mYou can\u001B[39m\u001B[38;5;124m'\u001B[39m\u001B[38;5;124mt took a cab with price less than 20$\u001B[39m\u001B[38;5;124m\"\u001B[39m)\n\u001B[0;32m      9\u001B[0m     \u001B[38;5;28mself\u001B[39m\u001B[38;5;241m.\u001B[39mdriver_id \u001B[38;5;241m=\u001B[39m driver_id\n\u001B[0;32m     10\u001B[0m     \u001B[38;5;28mself\u001B[39m\u001B[38;5;241m.\u001B[39mdistance \u001B[38;5;241m=\u001B[39m distance\n",
      "\u001B[1;31mException\u001B[0m: You can't took a cab with price less than 20$"
     ]
    }
   ],
   "source": [
    "cab_4 = Cab(10102843, 2.3, (\"Kyiv\", \"New York\"),12, 0)"
   ],
   "metadata": {
    "collapsed": false
   }
  },
  {
   "cell_type": "markdown",
   "source": [
    "# INHERITANCE"
   ],
   "metadata": {
    "collapsed": false
   }
  },
  {
   "cell_type": "code",
   "execution_count": 32,
   "outputs": [],
   "source": [
    "class Vehicle:\n",
    "    def __init__(self, year, color, brand, count_wheels):\n",
    "        self.year = year\n",
    "        self.color = color\n",
    "        self.brand = brand\n",
    "        self.count_wheels = count_wheels\n",
    "        self.speed = 0\n",
    "        self.angle = 0\n",
    "\n",
    "    def accelerate(self, acceleration, time):\n",
    "        self.speed += acceleration * time\n",
    "\n",
    "    def stop(self):\n",
    "        self.speed = 0\n",
    "\n",
    "    def turn_right(self, angle):\n",
    "        pass\n",
    "\n",
    "    def turn_left(self, angle):\n",
    "        pass"
   ],
   "metadata": {
    "collapsed": false,
    "ExecuteTime": {
     "start_time": "2023-04-23T11:41:30.694002Z",
     "end_time": "2023-04-23T11:41:30.704585Z"
    }
   }
  },
  {
   "cell_type": "code",
   "execution_count": 33,
   "outputs": [],
   "source": [
    "class Car(Vehicle):\n",
    "    def __init__(self, count_passengers, *args, **kwargs):\n",
    "        super().__init__(*args, **kwargs)\n",
    "        self.count_passengers = count_passengers\n",
    "\n",
    "    def turn_right(self, angle):\n",
    "        self.angle += angle\n",
    "\n",
    "    def turn_left(self, angle):\n",
    "        self.angle -= angle\n",
    "\n",
    "\n",
    "class Bus(Vehicle):\n",
    "    def __init__(self, count_passengers, *args, **kwargs):\n",
    "        super().__init__(*args, **kwargs)\n",
    "        self.count_passengers = count_passengers\n",
    "\n",
    "    def stop(self):\n",
    "        pass\n",
    "\n",
    "    def turn_right(self, angle):\n",
    "        self.angle += angle\n",
    "\n",
    "    def turn_left(self, angle):\n",
    "        self.angle -= angle"
   ],
   "metadata": {
    "collapsed": false,
    "ExecuteTime": {
     "start_time": "2023-04-23T11:41:31.064466Z",
     "end_time": "2023-04-23T11:41:31.069821Z"
    }
   }
  },
  {
   "cell_type": "code",
   "execution_count": 37,
   "outputs": [],
   "source": [
    "class Engine:\n",
    "    def __init__(self):\n",
    "        self.map = None\n",
    "        self.list_of_vehicles = []\n",
    "\n",
    "    def add_vehicle(self, vehicle: Vehicle):\n",
    "        if not isinstance(vehicle, Vehicle):\n",
    "            raise Exception(\"Wrong object!!!\")\n",
    "        self.list_of_vehicles.append(vehicle)\n",
    "\n",
    "    def process_env(self):\n",
    "        pass"
   ],
   "metadata": {
    "collapsed": false,
    "ExecuteTime": {
     "start_time": "2023-04-23T11:47:49.307139Z",
     "end_time": "2023-04-23T11:47:49.313160Z"
    }
   }
  },
  {
   "cell_type": "code",
   "execution_count": 38,
   "outputs": [],
   "source": [
    "engine = Engine()\n",
    "engine.add_vehicle(Car(30, 2016, \"blue\", \"BBB\", 8))\n",
    "engine.add_vehicle(Bus(30, 2016, \"blue\", \"BUS\", 6))"
   ],
   "metadata": {
    "collapsed": false,
    "ExecuteTime": {
     "start_time": "2023-04-23T11:47:49.750946Z",
     "end_time": "2023-04-23T11:47:49.761829Z"
    }
   }
  },
  {
   "cell_type": "code",
   "execution_count": 39,
   "outputs": [
    {
     "ename": "Exception",
     "evalue": "Wrong object!!!",
     "output_type": "error",
     "traceback": [
      "\u001B[1;31m---------------------------------------------------------------------------\u001B[0m",
      "\u001B[1;31mException\u001B[0m                                 Traceback (most recent call last)",
      "Cell \u001B[1;32mIn [39], line 1\u001B[0m\n\u001B[1;32m----> 1\u001B[0m \u001B[43mengine\u001B[49m\u001B[38;5;241;43m.\u001B[39;49m\u001B[43madd_vehicle\u001B[49m\u001B[43m(\u001B[49m\u001B[38;5;28;43mstr\u001B[39;49m\u001B[43m(\u001B[49m\u001B[38;5;124;43m'\u001B[39;49m\u001B[38;5;124;43mvehicle\u001B[39;49m\u001B[38;5;124;43m'\u001B[39;49m\u001B[43m)\u001B[49m\u001B[43m)\u001B[49m\n",
      "Cell \u001B[1;32mIn [37], line 8\u001B[0m, in \u001B[0;36mEngine.add_vehicle\u001B[1;34m(self, vehicle)\u001B[0m\n\u001B[0;32m      6\u001B[0m \u001B[38;5;28;01mdef\u001B[39;00m \u001B[38;5;21madd_vehicle\u001B[39m(\u001B[38;5;28mself\u001B[39m, vehicle: Vehicle):\n\u001B[0;32m      7\u001B[0m     \u001B[38;5;28;01mif\u001B[39;00m \u001B[38;5;129;01mnot\u001B[39;00m \u001B[38;5;28misinstance\u001B[39m(vehicle, Vehicle):\n\u001B[1;32m----> 8\u001B[0m         \u001B[38;5;28;01mraise\u001B[39;00m \u001B[38;5;167;01mException\u001B[39;00m(\u001B[38;5;124m\"\u001B[39m\u001B[38;5;124mWrong object!!!\u001B[39m\u001B[38;5;124m\"\u001B[39m)\n\u001B[0;32m      9\u001B[0m     \u001B[38;5;28mself\u001B[39m\u001B[38;5;241m.\u001B[39mlist_of_vehicles\u001B[38;5;241m.\u001B[39mappend(vehicle)\n",
      "\u001B[1;31mException\u001B[0m: Wrong object!!!"
     ]
    }
   ],
   "source": [
    "engine.add_vehicle(str('vehicle'))"
   ],
   "metadata": {
    "collapsed": false,
    "ExecuteTime": {
     "start_time": "2023-04-23T11:46:45.761522Z",
     "end_time": "2023-04-23T11:46:45.782917Z"
    }
   }
  },
  {
   "cell_type": "code",
   "execution_count": null,
   "outputs": [],
   "source": [
    "class MyUniClass:\n",
    "    def __init__(self):\n",
    "        pass\n",
    "\n",
    "    def __str__(self):\n",
    "        return \"some line\"\n",
    "\n",
    "    def __"
   ],
   "metadata": {
    "collapsed": false
   }
  }
 ],
 "metadata": {
  "kernelspec": {
   "display_name": "Python 3",
   "language": "python",
   "name": "python3"
  },
  "language_info": {
   "codemirror_mode": {
    "name": "ipython",
    "version": 2
   },
   "file_extension": ".py",
   "mimetype": "text/x-python",
   "name": "python",
   "nbconvert_exporter": "python",
   "pygments_lexer": "ipython2",
   "version": "2.7.6"
  }
 },
 "nbformat": 4,
 "nbformat_minor": 0
}
