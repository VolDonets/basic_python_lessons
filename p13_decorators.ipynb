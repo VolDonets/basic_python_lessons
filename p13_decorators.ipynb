{
 "cells": [
  {
   "cell_type": "markdown",
   "source": [
    "# Function decorators"
   ],
   "metadata": {
    "collapsed": false
   }
  },
  {
   "cell_type": "code",
   "execution_count": null,
   "outputs": [],
   "source": [
    "@mydecorator\n",
    "def dosomething():\n",
    "    pass"
   ],
   "metadata": {
    "collapsed": false
   }
  },
  {
   "cell_type": "code",
   "execution_count": 8,
   "outputs": [],
   "source": [
    "def start_end_decorator(func):\n",
    "    def wrapper(*args, **kwargs):\n",
    "        print(\"Start\")\n",
    "        func(*args, **kwargs)\n",
    "        print(\"End\")\n",
    "\n",
    "    return wrapper\n",
    "\n",
    "\n",
    "@start_end_decorator\n",
    "def print_name():\n",
    "    print(\"Alex\")"
   ],
   "metadata": {
    "collapsed": false
   }
  },
  {
   "cell_type": "code",
   "execution_count": 9,
   "outputs": [
    {
     "name": "stdout",
     "output_type": "stream",
     "text": [
      "Start\n",
      "Alex\n",
      "End\n"
     ]
    }
   ],
   "source": [
    "print_name()"
   ],
   "metadata": {
    "collapsed": false
   }
  },
  {
   "cell_type": "code",
   "execution_count": 10,
   "outputs": [],
   "source": [
    "@start_end_decorator\n",
    "def add5(x):\n",
    "    return x + 5"
   ],
   "metadata": {
    "collapsed": false
   }
  },
  {
   "cell_type": "code",
   "execution_count": 11,
   "outputs": [
    {
     "name": "stdout",
     "output_type": "stream",
     "text": [
      "Help on function wrapper in module __main__:\n",
      "\n",
      "wrapper(*args, **kwargs)\n",
      "\n",
      "None\n",
      "wrapper\n"
     ]
    }
   ],
   "source": [
    "print(help(add5))\n",
    "print(add5.__name__)"
   ],
   "metadata": {
    "collapsed": false
   }
  },
  {
   "cell_type": "code",
   "execution_count": 14,
   "outputs": [],
   "source": [
    "import functools\n",
    "\n",
    "\n",
    "def start_end_decorator(func):\n",
    "\n",
    "    @functools.wraps(func)\n",
    "    def wrapper(*args, **kwargs):\n",
    "        print(\"Start\")\n",
    "        func(*args, **kwargs)\n",
    "        print(\"End\")\n",
    "\n",
    "    return wrapper\n",
    "\n",
    "\n",
    "@start_end_decorator\n",
    "def add5(x):\n",
    "    return x + 5"
   ],
   "metadata": {
    "collapsed": false
   }
  },
  {
   "cell_type": "code",
   "execution_count": 17,
   "outputs": [
    {
     "name": "stdout",
     "output_type": "stream",
     "text": [
      "Help on function add5 in module __main__:\n",
      "\n",
      "add5(x)\n",
      "\n",
      "None\n",
      "\n",
      "func name: add5\n"
     ]
    }
   ],
   "source": [
    "print(help(add5))\n",
    "print(f\"\\nfunc name: {add5.__name__}\")"
   ],
   "metadata": {
    "collapsed": false
   }
  },
  {
   "cell_type": "markdown",
   "source": [
    "# template for nice func decorator"
   ],
   "metadata": {
    "collapsed": false
   }
  },
  {
   "cell_type": "code",
   "execution_count": null,
   "outputs": [],
   "source": [
    "import functools\n",
    "\n",
    "def my_decorator(func):\n",
    "\n",
    "    @functools.wraps(func)\n",
    "    def wrapper(*args, **kwargs):\n",
    "        # Do ...\n",
    "        result = func(*args, **kwargs)\n",
    "        # Do ...\n",
    "        return result\n",
    "\n",
    "    return  wrapper()"
   ],
   "metadata": {
    "collapsed": false
   }
  },
  {
   "cell_type": "markdown",
   "source": [
    "# Some more examples\n",
    "# Decorator with arguments"
   ],
   "metadata": {
    "collapsed": false
   }
  },
  {
   "cell_type": "code",
   "execution_count": 18,
   "outputs": [],
   "source": [
    "import functools\n",
    "\n",
    "\n",
    "def repeat(num_times):\n",
    "    def decorator_repeat(func):\n",
    "        @functools.wraps(func)\n",
    "        def wrapper(*args, **kwargs):\n",
    "            for _ in range(num_times):\n",
    "                result = func(*args, **kwargs)\n",
    "            return result\n",
    "        return wrapper\n",
    "    return decorator_repeat"
   ],
   "metadata": {
    "collapsed": false
   }
  },
  {
   "cell_type": "code",
   "execution_count": 19,
   "outputs": [
    {
     "name": "stdout",
     "output_type": "stream",
     "text": [
      "Hello Bob\n",
      "Hello Bob\n",
      "Hello Bob\n"
     ]
    }
   ],
   "source": [
    "@repeat(num_times=3)\n",
    "def greet(name):\n",
    "    print(f\"Hello {name}\")\n",
    "\n",
    "\n",
    "greet(\"Bob\")"
   ],
   "metadata": {
    "collapsed": false
   }
  },
  {
   "cell_type": "markdown",
   "source": [
    "# Nested decorators"
   ],
   "metadata": {
    "collapsed": false
   }
  },
  {
   "cell_type": "code",
   "execution_count": 22,
   "outputs": [],
   "source": [
    "def debug(func):\n",
    "    @functools.wraps(func)\n",
    "    def wrapper(*args, **kwargs):\n",
    "        args_repr = [repr(a) for a in args]\n",
    "        kwargs_repr = [f\"{k}={v!r}\" for k, v  in kwargs.items()]\n",
    "        signature = \", \".join(args_repr + kwargs_repr)\n",
    "        print(f\"Calling {func.__name__}({signature})\")\n",
    "        result = func(*args, **kwargs)\n",
    "        print(f\"{func.__name__!r} returned {result!r}\")\n",
    "        return result\n",
    "    return wrapper"
   ],
   "metadata": {
    "collapsed": false
   }
  },
  {
   "cell_type": "code",
   "execution_count": 24,
   "outputs": [
    {
     "name": "stdout",
     "output_type": "stream",
     "text": [
      "Calling say_hello('Alex')\n",
      "Start\n",
      "Hello Alex\n",
      "End\n",
      "'say_hello' returned None\n"
     ]
    }
   ],
   "source": [
    "@debug\n",
    "@start_end_decorator\n",
    "def say_hello(name):\n",
    "    greeting = f\"Hello {name}\"\n",
    "    print(greeting)\n",
    "    return greeting\n",
    "\n",
    "\n",
    "say_hello(\"Alex\")"
   ],
   "metadata": {
    "collapsed": false
   }
  },
  {
   "cell_type": "code",
   "execution_count": 25,
   "outputs": [
    {
     "name": "stdout",
     "output_type": "stream",
     "text": [
      "Start\n",
      "Calling say_hello('Alex')\n",
      "Hello Alex\n",
      "'say_hello' returned 'Hello Alex'\n",
      "End\n"
     ]
    }
   ],
   "source": [
    "@start_end_decorator\n",
    "@debug\n",
    "def say_hello(name):\n",
    "    greeting = f\"Hello {name}\"\n",
    "    print(greeting)\n",
    "    return greeting\n",
    "\n",
    "\n",
    "say_hello(\"Alex\")"
   ],
   "metadata": {
    "collapsed": false
   }
  },
  {
   "cell_type": "markdown",
   "source": [
    "# Class decorator"
   ],
   "metadata": {
    "collapsed": false
   }
  },
  {
   "cell_type": "code",
   "execution_count": 28,
   "outputs": [
    {
     "name": "stdout",
     "output_type": "stream",
     "text": [
      "Hi there\n"
     ]
    }
   ],
   "source": [
    "class CountCalls:\n",
    "    def __init__(self, func):\n",
    "        self.funk = func\n",
    "        self.num_calls = 0\n",
    "\n",
    "    def __call__(self, *args, **kwargs):\n",
    "        print(\"Hi there\")\n",
    "\n",
    "\n",
    "cc = CountCalls(None)\n",
    "cc()"
   ],
   "metadata": {
    "collapsed": false
   }
  },
  {
   "cell_type": "code",
   "execution_count": 29,
   "outputs": [
    {
     "name": "stdout",
     "output_type": "stream",
     "text": [
      "This is executed 1 times\n",
      "Hello\n",
      "This is executed 2 times\n",
      "Hello\n",
      "This is executed 3 times\n",
      "Hello\n"
     ]
    }
   ],
   "source": [
    "class CountCalls:\n",
    "    def __init__(self, func):\n",
    "        self.funk = func\n",
    "        self.num_calls = 0\n",
    "\n",
    "    def __call__(self, *args, **kwargs):\n",
    "        self.num_calls += 1\n",
    "        print(f\"This is executed {self.num_calls} times\")\n",
    "        return self.funk(*args, **kwargs)\n",
    "\n",
    "\n",
    "@CountCalls\n",
    "def say_hello():\n",
    "    print(\"Hello\")\n",
    "\n",
    "\n",
    "say_hello()\n",
    "say_hello()\n",
    "say_hello()"
   ],
   "metadata": {
    "collapsed": false
   }
  }
 ],
 "metadata": {
  "kernelspec": {
   "display_name": "Python 3",
   "language": "python",
   "name": "python3"
  },
  "language_info": {
   "codemirror_mode": {
    "name": "ipython",
    "version": 2
   },
   "file_extension": ".py",
   "mimetype": "text/x-python",
   "name": "python",
   "nbconvert_exporter": "python",
   "pygments_lexer": "ipython2",
   "version": "2.7.6"
  }
 },
 "nbformat": 4,
 "nbformat_minor": 0
}
