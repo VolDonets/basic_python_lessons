{
 "cells": [
  {
   "cell_type": "code",
   "execution_count": 1,
   "metadata": {
    "collapsed": true,
    "ExecuteTime": {
     "start_time": "2023-04-13T22:53:05.138267Z",
     "end_time": "2023-04-13T22:53:05.153267Z"
    }
   },
   "outputs": [],
   "source": [
    "class NodeTree:\n",
    "    def __init__(self, data):\n",
    "        self.data = data\n",
    "        self.left = None\n",
    "        self.right = None\n",
    "\n",
    "    def add_record(self, new_data):\n",
    "        if self.data == new_data:\n",
    "            return\n",
    "        if self.data > new_data:\n",
    "            if self.left:\n",
    "                self.left.add_record(new_data)\n",
    "            else:\n",
    "                self.left = NodeTree(new_data)\n",
    "        else:  # self.data < new_data\n",
    "            if self.right:\n",
    "                self.right.add_record(new_data)\n",
    "            else:\n",
    "                self.right = NodeTree(new_data)\n",
    "\n",
    "    def pre_order(self):\n",
    "        \"\"\"*** Pre-order, NLR***\n",
    "        1. Visit the current node (in the figure: position red).\n",
    "        2. Recursively traverse the current node's left subtree.\n",
    "        3. Recursively traverse the current node's right subtree.\n",
    "        \"\"\"\n",
    "\n",
    "        list_pre_order = [self.data, ]\n",
    "\n",
    "        if self.left:\n",
    "            list_pre_order += self.left.pre_order()\n",
    "        if self.right:\n",
    "            list_pre_order += self.right.pre_order()\n",
    "\n",
    "        return list_pre_order"
   ]
  },
  {
   "cell_type": "code",
   "execution_count": 2,
   "outputs": [],
   "source": [
    "# 3, 1, 4, 6, 8, 9, 0\n",
    "root = NodeTree(3)\n",
    "root.add_record(1)\n",
    "root.add_record(4)\n",
    "root.add_record(6)\n",
    "root.add_record(8)\n",
    "root.add_record(9)\n",
    "root.add_record(0)"
   ],
   "metadata": {
    "collapsed": false,
    "ExecuteTime": {
     "start_time": "2023-04-13T22:53:06.077341Z",
     "end_time": "2023-04-13T22:53:06.106331Z"
    }
   }
  },
  {
   "cell_type": "code",
   "execution_count": 3,
   "outputs": [
    {
     "name": "stdout",
     "output_type": "stream",
     "text": [
      "[3, 1, 0, 4, 6, 8, 9]\n"
     ]
    }
   ],
   "source": [
    "print(root.pre_order())"
   ],
   "metadata": {
    "collapsed": false,
    "ExecuteTime": {
     "start_time": "2023-04-13T22:53:38.715679Z",
     "end_time": "2023-04-13T22:53:38.735686Z"
    }
   }
  }
 ],
 "metadata": {
  "kernelspec": {
   "display_name": "Python 3",
   "language": "python",
   "name": "python3"
  },
  "language_info": {
   "codemirror_mode": {
    "name": "ipython",
    "version": 2
   },
   "file_extension": ".py",
   "mimetype": "text/x-python",
   "name": "python",
   "nbconvert_exporter": "python",
   "pygments_lexer": "ipython2",
   "version": "2.7.6"
  }
 },
 "nbformat": 4,
 "nbformat_minor": 0
}
