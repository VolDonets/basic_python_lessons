{
 "cells": [
  {
   "cell_type": "code",
   "execution_count": 35,
   "metadata": {
    "collapsed": true,
    "ExecuteTime": {
     "start_time": "2023-05-04T22:58:24.638195Z",
     "end_time": "2023-05-04T22:58:24.642442Z"
    }
   },
   "outputs": [],
   "source": [
    "class NodeTree:\n",
    "    def __init__(self, data):\n",
    "        self.data = data\n",
    "        self.left = None\n",
    "        self.right = None\n",
    "\n",
    "    def __str__(self):\n",
    "        return str(self.data)\n",
    "\n",
    "    def add_record(self, new_data):\n",
    "        if self.data == new_data:\n",
    "            return\n",
    "        if self.data > new_data:\n",
    "            if self.left:\n",
    "                self.left.add_record(new_data)\n",
    "            else:\n",
    "                self.left = NodeTree(new_data)\n",
    "        else:  # self.data < new_data\n",
    "            if self.right:\n",
    "                self.right.add_record(new_data)\n",
    "            else:\n",
    "                self.right = NodeTree(new_data)\n",
    "\n",
    "    def pre_order(self):\n",
    "        \"\"\"*** Pre-order, NLR***\n",
    "        1. Visit the current node (in the figure: position red).\n",
    "        2. Recursively traverse the current node's left subtree.\n",
    "        3. Recursively traverse the current node's right subtree.\n",
    "        \"\"\"\n",
    "\n",
    "        list_pre_order = [self.data, ]\n",
    "\n",
    "        if self.left:\n",
    "            list_pre_order += self.left.pre_order()\n",
    "        if self.right:\n",
    "            list_pre_order += self.right.pre_order()\n",
    "\n",
    "        return list_pre_order\n",
    "\n",
    "    def find_node(self, value):\n",
    "        if self.data == value:\n",
    "            return self\n",
    "        if value < self.data:\n",
    "            return self.left.find_node(value) if self.left else None\n",
    "        else:\n",
    "            return self.right.find_node(value) if self.right else None\n",
    "\n",
    "    def find_father(self, child_node):\n",
    "        if (not child_node) or (not isinstance(child_node, NodeTree)):\n",
    "            return None\n",
    "\n",
    "        result = None\n",
    "        if self.left == child_node:\n",
    "            result = self\n",
    "        elif self.left:\n",
    "            result = self.left.find_father(child_node)\n",
    "        if not result:\n",
    "            if self.right == child_node:\n",
    "                result = self\n",
    "            elif self.right:\n",
    "                result = self.right.find_father(child_node)\n",
    "\n",
    "        return result\n",
    "\n",
    "\n",
    "def find_most_left_child(node_: NodeTree):\n",
    "    if (not node_) or (not isinstance(node_, NodeTree)):\n",
    "        return None\n",
    "\n",
    "    if node_.left:\n",
    "        if node_.left.left:\n",
    "            return find_most_left_child(node_.left)\n",
    "        else:\n",
    "            return node_.left\n",
    "    else:\n",
    "        return None\n",
    "\n",
    "\n",
    "def find_most_right_child(node_: NodeTree):\n",
    "    if (not node_) or (not isinstance(node_, NodeTree)):\n",
    "        return None\n",
    "\n",
    "    if node_.right:\n",
    "        if node_.right.right:\n",
    "            return find_most_right_child(node_.right)\n",
    "        else:\n",
    "            return node_.right\n",
    "    else:\n",
    "        return None\n",
    "\n",
    "\n",
    "\n",
    "\n",
    "\n",
    "def funcy_tree_representation(root_node):\n",
    "    list_of_tree = [[root_node], ]\n",
    "    while True:\n",
    "        row_of_tree = []\n",
    "        for node_ in list_of_tree[-1]:\n",
    "            row_of_tree.append(node_.left if node_ else None)\n",
    "            row_of_tree.append(node_.right if node_ else None)\n",
    "        is_all_none = True\n",
    "        for node_ in row_of_tree:\n",
    "            if node_:\n",
    "                is_all_none = False\n",
    "        if is_all_none:\n",
    "            break\n",
    "        else:\n",
    "            list_of_tree.append(row_of_tree)\n",
    "    return list_of_tree"
   ]
  },
  {
   "cell_type": "code",
   "execution_count": 20,
   "outputs": [],
   "source": [
    "# 3, 1, 4, 6, 8, 9, 0\n",
    "root = NodeTree(3)\n",
    "root.add_record(1)\n",
    "root.add_record(4)\n",
    "root.add_record(6)\n",
    "root.add_record(8)\n",
    "root.add_record(9)\n",
    "root.add_record(0)"
   ],
   "metadata": {
    "collapsed": false,
    "ExecuteTime": {
     "start_time": "2023-05-04T21:36:07.328702Z",
     "end_time": "2023-05-04T21:36:07.339683Z"
    }
   }
  },
  {
   "cell_type": "code",
   "execution_count": 28,
   "outputs": [
    {
     "name": "stdout",
     "output_type": "stream",
     "text": [
      "1\n",
      "3\n",
      "0\n"
     ]
    }
   ],
   "source": [
    "node = root.find_node(1)\n",
    "if node:\n",
    "    print(node.data)\n",
    "else:\n",
    "    print(\"Didn't find\")\n",
    "\n",
    "father = root.find_father(node)\n",
    "if father:\n",
    "    print(father.data)\n",
    "else:\n",
    "    print(\"Didn't find father\")\n",
    "\n",
    "most_left = find_most_left_child(node)\n",
    "\n",
    "if most_left:\n",
    "    print(most_left.data)\n",
    "else:\n",
    "    print(\"Didn't find most left\")"
   ],
   "metadata": {
    "collapsed": false,
    "ExecuteTime": {
     "start_time": "2023-05-04T21:37:27.702372Z",
     "end_time": "2023-05-04T21:37:27.713111Z"
    }
   }
  },
  {
   "cell_type": "code",
   "execution_count": null,
   "outputs": [],
   "source": [
    "print(root.pre_order())"
   ],
   "metadata": {
    "collapsed": false,
    "ExecuteTime": {
     "start_time": "2023-04-13T22:53:38.715679Z",
     "end_time": "2023-04-13T22:53:38.735686Z"
    }
   }
  },
  {
   "cell_type": "code",
   "execution_count": null,
   "outputs": [],
   "source": [
    "# 9 8 7 1 4 5 2 3 12 11 15 14 31"
   ],
   "metadata": {
    "collapsed": false
   }
  },
  {
   "cell_type": "code",
   "execution_count": 36,
   "outputs": [],
   "source": [
    "root = NodeTree(9)\n",
    "root.add_record(8)\n",
    "root.add_record(7)\n",
    "root.add_record(1)\n",
    "root.add_record(4)\n",
    "root.add_record(5)\n",
    "root.add_record(2)\n",
    "root.add_record(3)\n",
    "root.add_record(12)\n",
    "root.add_record(11)\n",
    "root.add_record(15)\n",
    "root.add_record(14)\n",
    "root.add_record(31)"
   ],
   "metadata": {
    "collapsed": false,
    "ExecuteTime": {
     "start_time": "2023-05-04T22:58:28.768564Z",
     "end_time": "2023-05-04T22:58:28.789851Z"
    }
   }
  },
  {
   "cell_type": "code",
   "execution_count": 39,
   "outputs": [
    {
     "name": "stdout",
     "output_type": "stream",
     "text": [
      "['9']\n",
      "['8', '12']\n",
      "['7', '', '11', '15']\n",
      "['1', '', '', '', '', '', '14', '31']\n",
      "['', '4', '', '', '', '', '', '', '', '', '', '', '', '', '', '']\n",
      "['', '', '2', '5', '', '', '', '', '', '', '', '', '', '', '', '', '', '', '', '', '', '', '', '', '', '', '', '', '', '', '', '']\n",
      "['', '', '', '', '', '3', '', '', '', '', '', '', '', '', '', '', '', '', '', '', '', '', '', '', '', '', '', '', '', '', '', '', '', '', '', '', '', '', '', '', '', '', '', '', '', '', '', '', '', '', '', '', '', '', '', '', '', '', '', '', '', '', '', '']\n"
     ]
    }
   ],
   "source": [
    "list_nodes_funcy = funcy_tree_representation(root)\n",
    "list_nodes_str_funcy = []\n",
    "for row_funcy in list_nodes_funcy:\n",
    "    row_str_funcy = [str(elem) if elem else \"\" for elem in row_funcy]\n",
    "    print(row_str_funcy)\n",
    "\n",
    "\n",
    "#                ['9']\n",
    "#              ['8',     '12']\n",
    "#         [  '7', '', '11', '15']\n",
    "# [        '1', '', '', ''14', '31']\n",
    "# ['',       '4', '', '', '', '', '', '', '', '', '', '', '', '', '', '']\n",
    "# ['', '', '2', '5', '', '', '', '', '', '', '', '', '', '', '', '', '', '', '', '', '', '', '', '', '', '', '', '', '', '', '', '']\n",
    "# ['', '', '', '  '3', '', '', '', '', '', '', '', '', '', '', '', '', '', '', '', '', '', '', '', '', '', '', '', '', '', '', ...]"
   ],
   "metadata": {
    "collapsed": false,
    "ExecuteTime": {
     "start_time": "2023-05-04T23:01:21.662169Z",
     "end_time": "2023-05-04T23:01:21.670717Z"
    }
   }
  },
  {
   "cell_type": "code",
   "execution_count": 3,
   "outputs": [
    {
     "name": "stdout",
     "output_type": "stream",
     "text": [
      "[9, 8, 7, 1, 4, 2, 3, 5, 12, 11, 15, 14, 31]\n"
     ]
    }
   ],
   "source": [
    "print(root.pre_order())"
   ],
   "metadata": {
    "collapsed": false,
    "ExecuteTime": {
     "start_time": "2023-04-30T19:45:55.699772Z",
     "end_time": "2023-04-30T19:45:55.717085Z"
    }
   }
  },
  {
   "cell_type": "markdown",
   "source": [
    "## Home tasks\n",
    "\n",
    "[Wiki trees](https://en.wikipedia.org/wiki/Tree_traversal)"
   ],
   "metadata": {
    "collapsed": false
   }
  },
  {
   "cell_type": "markdown",
   "source": [
    "1. Create 5 tree traversal algorithms\n",
    "2. Create an algorithm for printing tree structure, like"
   ],
   "metadata": {
    "collapsed": false
   }
  },
  {
   "cell_type": "code",
   "execution_count": null,
   "outputs": [],
   "source": [
    "#            10\n",
    "#        8       15\n",
    "#     7   9    12   17\n",
    "#   1                 21\n",
    "#  0"
   ],
   "metadata": {
    "collapsed": false
   }
  }
 ],
 "metadata": {
  "kernelspec": {
   "display_name": "Python 3",
   "language": "python",
   "name": "python3"
  },
  "language_info": {
   "codemirror_mode": {
    "name": "ipython",
    "version": 2
   },
   "file_extension": ".py",
   "mimetype": "text/x-python",
   "name": "python",
   "nbconvert_exporter": "python",
   "pygments_lexer": "ipython2",
   "version": "2.7.6"
  }
 },
 "nbformat": 4,
 "nbformat_minor": 0
}
