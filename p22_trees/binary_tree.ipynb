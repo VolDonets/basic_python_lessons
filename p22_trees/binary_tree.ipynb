{
 "cells": [
  {
   "cell_type": "code",
   "execution_count": 1,
   "metadata": {
    "collapsed": true,
    "ExecuteTime": {
     "start_time": "2023-04-30T19:43:03.216550Z",
     "end_time": "2023-04-30T19:43:03.235506Z"
    }
   },
   "outputs": [],
   "source": [
    "class NodeTree:\n",
    "    def __init__(self, data):\n",
    "        self.data = data\n",
    "        self.left = None\n",
    "        self.right = None\n",
    "\n",
    "    def add_record(self, new_data):\n",
    "        if self.data == new_data:\n",
    "            return\n",
    "        if self.data > new_data:\n",
    "            if self.left:\n",
    "                self.left.add_record(new_data)\n",
    "            else:\n",
    "                self.left = NodeTree(new_data)\n",
    "        else:  # self.data < new_data\n",
    "            if self.right:\n",
    "                self.right.add_record(new_data)\n",
    "            else:\n",
    "                self.right = NodeTree(new_data)\n",
    "\n",
    "    def pre_order(self):\n",
    "        \"\"\"*** Pre-order, NLR***\n",
    "        1. Visit the current node (in the figure: position red).\n",
    "        2. Recursively traverse the current node's left subtree.\n",
    "        3. Recursively traverse the current node's right subtree.\n",
    "        \"\"\"\n",
    "\n",
    "        list_pre_order = [self.data, ]\n",
    "\n",
    "        if self.left:\n",
    "            list_pre_order += self.left.pre_order()\n",
    "        if self.right:\n",
    "            list_pre_order += self.right.pre_order()\n",
    "\n",
    "        return list_pre_order"
   ]
  },
  {
   "cell_type": "code",
   "execution_count": null,
   "outputs": [],
   "source": [
    "# 3, 1, 4, 6, 8, 9, 0\n",
    "root = NodeTree(3)\n",
    "root.add_record(1)\n",
    "root.add_record(4)\n",
    "root.add_record(6)\n",
    "root.add_record(8)\n",
    "root.add_record(9)\n",
    "root.add_record(0)"
   ],
   "metadata": {
    "collapsed": false,
    "ExecuteTime": {
     "start_time": "2023-04-13T22:53:06.077341Z",
     "end_time": "2023-04-13T22:53:06.106331Z"
    }
   }
  },
  {
   "cell_type": "code",
   "execution_count": null,
   "outputs": [],
   "source": [
    "print(root.pre_order())"
   ],
   "metadata": {
    "collapsed": false,
    "ExecuteTime": {
     "start_time": "2023-04-13T22:53:38.715679Z",
     "end_time": "2023-04-13T22:53:38.735686Z"
    }
   }
  },
  {
   "cell_type": "code",
   "execution_count": null,
   "outputs": [],
   "source": [
    "# 9 8 7 1 4 5 2 3 12 11 15 14 31"
   ],
   "metadata": {
    "collapsed": false
   }
  },
  {
   "cell_type": "code",
   "execution_count": 2,
   "outputs": [],
   "source": [
    "root = NodeTree(9)\n",
    "root.add_record(8)\n",
    "root.add_record(7)\n",
    "root.add_record(1)\n",
    "root.add_record(4)\n",
    "root.add_record(5)\n",
    "root.add_record(2)\n",
    "root.add_record(3)\n",
    "root.add_record(12)\n",
    "root.add_record(11)\n",
    "root.add_record(15)\n",
    "root.add_record(14)\n",
    "root.add_record(31)"
   ],
   "metadata": {
    "collapsed": false,
    "ExecuteTime": {
     "start_time": "2023-04-30T19:45:41.036994Z",
     "end_time": "2023-04-30T19:45:41.061589Z"
    }
   }
  },
  {
   "cell_type": "code",
   "execution_count": 3,
   "outputs": [
    {
     "name": "stdout",
     "output_type": "stream",
     "text": [
      "[9, 8, 7, 1, 4, 2, 3, 5, 12, 11, 15, 14, 31]\n"
     ]
    }
   ],
   "source": [
    "print(root.pre_order())"
   ],
   "metadata": {
    "collapsed": false,
    "ExecuteTime": {
     "start_time": "2023-04-30T19:45:55.699772Z",
     "end_time": "2023-04-30T19:45:55.717085Z"
    }
   }
  },
  {
   "cell_type": "markdown",
   "source": [
    "## Home tasks\n",
    "\n",
    "[Wiki trees](https://en.wikipedia.org/wiki/Tree_traversal)"
   ],
   "metadata": {
    "collapsed": false
   }
  },
  {
   "cell_type": "markdown",
   "source": [
    "1. Create 5 tree traversal algorithms\n",
    "2. Create an algorithm for printing tree structure, like"
   ],
   "metadata": {
    "collapsed": false
   }
  },
  {
   "cell_type": "code",
   "execution_count": null,
   "outputs": [],
   "source": [
    "#            10\n",
    "#        8       15\n",
    "#     7   9    12   17\n",
    "#   1                 21\n",
    "#  0"
   ],
   "metadata": {
    "collapsed": false
   }
  }
 ],
 "metadata": {
  "kernelspec": {
   "display_name": "Python 3",
   "language": "python",
   "name": "python3"
  },
  "language_info": {
   "codemirror_mode": {
    "name": "ipython",
    "version": 2
   },
   "file_extension": ".py",
   "mimetype": "text/x-python",
   "name": "python",
   "nbconvert_exporter": "python",
   "pygments_lexer": "ipython2",
   "version": "2.7.6"
  }
 },
 "nbformat": 4,
 "nbformat_minor": 0
}
