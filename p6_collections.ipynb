{
 "cells": [
  {
   "cell_type": "markdown",
   "source": [
    "# collections: Counter, namedtuple, OrderedDict, defaultdict, deque"
   ],
   "metadata": {
    "collapsed": false
   }
  },
  {
   "cell_type": "markdown",
   "source": [
    "## Counter"
   ],
   "metadata": {
    "collapsed": false
   }
  },
  {
   "cell_type": "code",
   "execution_count": 1,
   "outputs": [],
   "source": [
    "from collections import Counter"
   ],
   "metadata": {
    "collapsed": false,
    "ExecuteTime": {
     "start_time": "2023-04-27T22:45:56.325324Z",
     "end_time": "2023-04-27T22:45:56.353379Z"
    }
   }
  },
  {
   "cell_type": "code",
   "execution_count": 2,
   "outputs": [
    {
     "name": "stdout",
     "output_type": "stream",
     "text": [
      "Counter({'a': 10, 'c': 5, 'b': 3})\n",
      "[('a', 10), ('c', 5), ('b', 3)]\n",
      "[('a', 10)]\n",
      "[('a', 10), ('c', 5)]\n",
      "('a', 10)\n",
      "a\n",
      "['a', 'a', 'a', 'a', 'a', 'a', 'a', 'a', 'a', 'a', 'b', 'b', 'b', 'c', 'c', 'c', 'c', 'c']\n"
     ]
    }
   ],
   "source": [
    "a = \"aaaaaaaaaabbbccccc\"\n",
    "my_counter = Counter(a)\n",
    "print(my_counter)\n",
    "print(my_counter.most_common())\n",
    "print(my_counter.most_common(1))\n",
    "print(my_counter.most_common(2))\n",
    "print(my_counter.most_common(1)[0])\n",
    "print(my_counter.most_common(1)[0][0])\n",
    "print(list(my_counter.elements()))"
   ],
   "metadata": {
    "collapsed": false,
    "ExecuteTime": {
     "start_time": "2023-04-27T22:45:56.330710Z",
     "end_time": "2023-04-27T22:45:56.363014Z"
    }
   }
  },
  {
   "cell_type": "code",
   "execution_count": 3,
   "outputs": [
    {
     "name": "stdout",
     "output_type": "stream",
     "text": [
      "{'a': 10, 'b': 3, 'c': 5}\n"
     ]
    }
   ],
   "source": [
    "dict_a = dict(my_counter)\n",
    "print(dict_a)"
   ],
   "metadata": {
    "collapsed": false,
    "ExecuteTime": {
     "start_time": "2023-04-27T22:46:08.222319Z",
     "end_time": "2023-04-27T22:46:08.236568Z"
    }
   }
  },
  {
   "cell_type": "code",
   "execution_count": 5,
   "outputs": [
    {
     "name": "stdout",
     "output_type": "stream",
     "text": [
      "Counter({'a': 14, 'b': 8, 'c': 8, 'i': 3, 'j': 1, 'o': 1, 'h': 1})\n"
     ]
    }
   ],
   "source": [
    "b = \"bjboiiiaaaaccchbbb\"\n",
    "my_counter.update(b)\n",
    "print(my_counter)"
   ],
   "metadata": {
    "collapsed": false,
    "ExecuteTime": {
     "start_time": "2023-04-27T22:49:44.896760Z",
     "end_time": "2023-04-27T22:49:44.914188Z"
    }
   }
  },
  {
   "cell_type": "code",
   "execution_count": 7,
   "outputs": [
    {
     "name": "stdout",
     "output_type": "stream",
     "text": [
      "Counter({0: 1, 1: 1, 2: 1, 3: 1, 4: 1, 5: 1, 6: 1, 7: 1, 8: 1, 9: 1})\n",
      "Counter({'a': 2, 0: 2, 'aa': 1, 1: 1, 'b': 1, '1': 1, 3: 1})\n"
     ]
    }
   ],
   "source": [
    "arr = [x for x in range(10)]\n",
    "my_arr_counter = Counter(arr)\n",
    "print(my_arr_counter)\n",
    "\n",
    "arr_2 = ['a', 'aa', 1, 0, 0, 'a', 'b', '1', 3]\n",
    "mac = Counter(arr_2)\n",
    "print(mac)"
   ],
   "metadata": {
    "collapsed": false,
    "ExecuteTime": {
     "start_time": "2023-04-27T22:52:24.778106Z",
     "end_time": "2023-04-27T22:52:24.792718Z"
    }
   }
  },
  {
   "cell_type": "markdown",
   "source": [
    "## namedtuple"
   ],
   "metadata": {
    "collapsed": false
   }
  },
  {
   "cell_type": "code",
   "execution_count": 10,
   "outputs": [],
   "source": [
    "from collections import namedtuple"
   ],
   "metadata": {
    "collapsed": false
   }
  },
  {
   "cell_type": "code",
   "execution_count": 12,
   "outputs": [
    {
     "name": "stdout",
     "output_type": "stream",
     "text": [
      "Point(x=1, y=-4)\n",
      "1 -4\n"
     ]
    }
   ],
   "source": [
    "Point = namedtuple(\"Point\", \"x,y\")\n",
    "pt = Point(1, -4)\n",
    "print(pt)\n",
    "print(pt.x, pt.y)"
   ],
   "metadata": {
    "collapsed": false
   }
  },
  {
   "cell_type": "markdown",
   "source": [
    "## OrderedDict"
   ],
   "metadata": {
    "collapsed": false
   }
  },
  {
   "cell_type": "code",
   "execution_count": 13,
   "outputs": [],
   "source": [
    "from collections import OrderedDict\n",
    "# since Python 3.7 default dict also remember the order."
   ],
   "metadata": {
    "collapsed": false
   }
  },
  {
   "cell_type": "code",
   "execution_count": 14,
   "outputs": [
    {
     "name": "stdout",
     "output_type": "stream",
     "text": [
      "OrderedDict([('a', 1), ('b', 2), ('c', 3), ('d', 4), ('e', 5)])\n"
     ]
    }
   ],
   "source": [
    "od = OrderedDict()\n",
    "od[\"a\"] = 1\n",
    "od[\"b\"] = 2\n",
    "od[\"c\"] = 3\n",
    "od[\"d\"] = 4\n",
    "od[\"e\"] = 5\n",
    "print(od)"
   ],
   "metadata": {
    "collapsed": false
   }
  },
  {
   "cell_type": "code",
   "execution_count": 15,
   "outputs": [
    {
     "name": "stdout",
     "output_type": "stream",
     "text": [
      "OrderedDict([('e', 5), ('a', 1), ('b', 2), ('c', 3), ('d', 4)])\n"
     ]
    }
   ],
   "source": [
    "od = OrderedDict()\n",
    "od[\"e\"] = 5\n",
    "od[\"a\"] = 1\n",
    "od[\"b\"] = 2\n",
    "od[\"c\"] = 3\n",
    "od[\"d\"] = 4\n",
    "print(od)"
   ],
   "metadata": {
    "collapsed": false
   }
  },
  {
   "cell_type": "code",
   "execution_count": 16,
   "outputs": [
    {
     "name": "stdout",
     "output_type": "stream",
     "text": [
      "{'a': 1, 'b': 2, 'c': 3, 'd': 4, 'e': 5}\n"
     ]
    }
   ],
   "source": [
    "dd = dict()\n",
    "dd[\"a\"] = 1\n",
    "dd[\"b\"] = 2\n",
    "dd[\"c\"] = 3\n",
    "dd[\"d\"] = 4\n",
    "dd[\"e\"] = 5\n",
    "print(dd)"
   ],
   "metadata": {
    "collapsed": false
   }
  },
  {
   "cell_type": "code",
   "execution_count": 17,
   "outputs": [
    {
     "name": "stdout",
     "output_type": "stream",
     "text": [
      "{'e': 5, 'a': 1, 'b': 2, 'c': 3, 'd': 4}\n"
     ]
    }
   ],
   "source": [
    "dd = dict()\n",
    "dd[\"e\"] = 5\n",
    "dd[\"a\"] = 1\n",
    "dd[\"b\"] = 2\n",
    "dd[\"c\"] = 3\n",
    "dd[\"d\"] = 4\n",
    "print(dd)"
   ],
   "metadata": {
    "collapsed": false
   }
  },
  {
   "cell_type": "markdown",
   "source": [
    "## defaultdict"
   ],
   "metadata": {
    "collapsed": false
   }
  },
  {
   "cell_type": "code",
   "execution_count": 8,
   "outputs": [],
   "source": [
    "from collections import defaultdict"
   ],
   "metadata": {
    "collapsed": false,
    "ExecuteTime": {
     "start_time": "2023-04-27T23:06:42.589765Z",
     "end_time": "2023-04-27T23:06:42.597428Z"
    }
   }
  },
  {
   "cell_type": "code",
   "execution_count": 9,
   "outputs": [
    {
     "name": "stdout",
     "output_type": "stream",
     "text": [
      "0\n",
      "defaultdict(<class 'int'>, {'a': 1, 'b': 2, 'c': 0})\n"
     ]
    }
   ],
   "source": [
    "dd = defaultdict(int)\n",
    "dd[\"a\"] = 1\n",
    "dd[\"b\"] = 2\n",
    "print(dd[\"c\"])\n",
    "print(dd)"
   ],
   "metadata": {
    "collapsed": false,
    "ExecuteTime": {
     "start_time": "2023-04-27T23:06:42.937015Z",
     "end_time": "2023-04-27T23:06:42.983625Z"
    }
   }
  },
  {
   "cell_type": "code",
   "execution_count": 15,
   "outputs": [
    {
     "name": "stdout",
     "output_type": "stream",
     "text": [
      "0\n",
      "defaultdict(<class 'int'>, {'a': 0, 'b': 1, 'c': 10, 'v': 'abds', 'd': 0})\n"
     ]
    }
   ],
   "source": [
    "d = {'a': 0, 'b': 1, 'c': 10, 'v': 'abds'}\n",
    "dd = defaultdict(int, d)\n",
    "print(dd['d'])\n",
    "print(dd)"
   ],
   "metadata": {
    "collapsed": false,
    "ExecuteTime": {
     "start_time": "2023-04-27T23:10:04.379434Z",
     "end_time": "2023-04-27T23:10:04.393188Z"
    }
   }
  },
  {
   "cell_type": "code",
   "execution_count": 14,
   "outputs": [
    {
     "name": "stdout",
     "output_type": "stream",
     "text": [
      "defaultdict(<class 'int'>, {'a': 0, 'b': 1, 'c': 10, 'd': 0, 't': 'line'})\n"
     ]
    }
   ],
   "source": [
    "dd['t'] = 'line'\n",
    "print(dd)"
   ],
   "metadata": {
    "collapsed": false,
    "ExecuteTime": {
     "start_time": "2023-04-27T23:09:37.140481Z",
     "end_time": "2023-04-27T23:09:37.154073Z"
    }
   }
  },
  {
   "cell_type": "markdown",
   "source": [
    "## deque"
   ],
   "metadata": {
    "collapsed": false
   }
  },
  {
   "cell_type": "code",
   "execution_count": 25,
   "outputs": [],
   "source": [
    "from collections import deque"
   ],
   "metadata": {
    "collapsed": false,
    "ExecuteTime": {
     "start_time": "2023-04-27T23:15:54.798903Z",
     "end_time": "2023-04-27T23:15:54.818229Z"
    }
   }
  },
  {
   "cell_type": "code",
   "execution_count": 26,
   "outputs": [
    {
     "name": "stdout",
     "output_type": "stream",
     "text": [
      "deque([1, 2, 3])\n"
     ]
    }
   ],
   "source": [
    "d = deque()\n",
    "\n",
    "d.append(1)\n",
    "d.append(2)\n",
    "d.append(3)\n",
    "print(d)"
   ],
   "metadata": {
    "collapsed": false,
    "ExecuteTime": {
     "start_time": "2023-04-27T23:15:55.302408Z",
     "end_time": "2023-04-27T23:15:55.380575Z"
    }
   }
  },
  {
   "cell_type": "code",
   "execution_count": 27,
   "outputs": [
    {
     "name": "stdout",
     "output_type": "stream",
     "text": [
      "deque([4, 1, 2, 3])\n"
     ]
    }
   ],
   "source": [
    "d.appendleft(4)\n",
    "print(d)"
   ],
   "metadata": {
    "collapsed": false,
    "ExecuteTime": {
     "start_time": "2023-04-27T23:16:01.358666Z",
     "end_time": "2023-04-27T23:16:01.365388Z"
    }
   }
  },
  {
   "cell_type": "code",
   "execution_count": 28,
   "outputs": [
    {
     "name": "stdout",
     "output_type": "stream",
     "text": [
      "3\n",
      "deque([4, 1, 2])\n"
     ]
    }
   ],
   "source": [
    "print(d.pop())\n",
    "print(d)"
   ],
   "metadata": {
    "collapsed": false,
    "ExecuteTime": {
     "start_time": "2023-04-27T23:16:21.839088Z",
     "end_time": "2023-04-27T23:16:21.844602Z"
    }
   }
  },
  {
   "cell_type": "code",
   "execution_count": 29,
   "outputs": [
    {
     "name": "stdout",
     "output_type": "stream",
     "text": [
      "4\n",
      "deque([1, 2])\n"
     ]
    }
   ],
   "source": [
    "print(d.popleft())\n",
    "print(d)"
   ],
   "metadata": {
    "collapsed": false,
    "ExecuteTime": {
     "start_time": "2023-04-27T23:16:25.656589Z",
     "end_time": "2023-04-27T23:16:25.684324Z"
    }
   }
  },
  {
   "cell_type": "code",
   "execution_count": 30,
   "outputs": [
    {
     "name": "stdout",
     "output_type": "stream",
     "text": [
      "deque([1, 2, 5, 4, 8, 1])\n"
     ]
    }
   ],
   "source": [
    "d.extend([5, 4, 8, 1])\n",
    "print(d)"
   ],
   "metadata": {
    "collapsed": false,
    "ExecuteTime": {
     "start_time": "2023-04-27T23:16:26.443614Z",
     "end_time": "2023-04-27T23:16:26.456061Z"
    }
   }
  },
  {
   "cell_type": "code",
   "execution_count": 31,
   "outputs": [
    {
     "name": "stdout",
     "output_type": "stream",
     "text": [
      "deque([-3, -2, -1, 1, 2, 5, 4, 8, 1])\n"
     ]
    }
   ],
   "source": [
    "d.extendleft([-1, -2, -3])\n",
    "print(d)"
   ],
   "metadata": {
    "collapsed": false,
    "ExecuteTime": {
     "start_time": "2023-04-27T23:16:26.737306Z",
     "end_time": "2023-04-27T23:16:26.754155Z"
    }
   }
  },
  {
   "cell_type": "code",
   "execution_count": 32,
   "outputs": [
    {
     "name": "stdout",
     "output_type": "stream",
     "text": [
      "deque([1, -3, -2, -1, 1, 2, 5, 4, 8])\n"
     ]
    }
   ],
   "source": [
    "d.rotate(1)\n",
    "print(d)"
   ],
   "metadata": {
    "collapsed": false,
    "ExecuteTime": {
     "start_time": "2023-04-27T23:16:27.056092Z",
     "end_time": "2023-04-27T23:16:27.079280Z"
    }
   }
  },
  {
   "cell_type": "code",
   "execution_count": 33,
   "outputs": [
    {
     "name": "stdout",
     "output_type": "stream",
     "text": [
      "deque([-3, -2, -1, 1, 2, 5, 4, 8, 1])\n"
     ]
    }
   ],
   "source": [
    "d.rotate(-1)\n",
    "print(d)"
   ],
   "metadata": {
    "collapsed": false,
    "ExecuteTime": {
     "start_time": "2023-04-27T23:16:28.546603Z",
     "end_time": "2023-04-27T23:16:28.555973Z"
    }
   }
  },
  {
   "cell_type": "code",
   "execution_count": 34,
   "outputs": [
    {
     "name": "stdout",
     "output_type": "stream",
     "text": [
      "deque([8, 1, -3, -2, -1, 1, 2, 5, 4])\n"
     ]
    }
   ],
   "source": [
    "d.rotate(2)\n",
    "print(d)"
   ],
   "metadata": {
    "collapsed": false,
    "ExecuteTime": {
     "start_time": "2023-04-27T23:18:25.191689Z",
     "end_time": "2023-04-27T23:18:25.206659Z"
    }
   }
  }
 ],
 "metadata": {
  "kernelspec": {
   "display_name": "Python 3",
   "language": "python",
   "name": "python3"
  },
  "language_info": {
   "codemirror_mode": {
    "name": "ipython",
    "version": 2
   },
   "file_extension": ".py",
   "mimetype": "text/x-python",
   "name": "python",
   "nbconvert_exporter": "python",
   "pygments_lexer": "ipython2",
   "version": "2.7.6"
  }
 },
 "nbformat": 4,
 "nbformat_minor": 0
}
